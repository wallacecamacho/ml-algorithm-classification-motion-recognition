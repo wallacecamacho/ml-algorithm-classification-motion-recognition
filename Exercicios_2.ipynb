{
  "nbformat": 4,
  "nbformat_minor": 0,
  "metadata": {
    "colab": {
      "name": "Exercicios-2.ipynb",
      "provenance": []
    },
    "kernelspec": {
      "name": "python3",
      "display_name": "Python 3"
    },
    "language_info": {
      "name": "python"
    }
  },
  "cells": [
    {
      "cell_type": "code",
      "metadata": {
        "colab": {
          "base_uri": "https://localhost:8080/"
        },
        "id": "3ZXOnnC5ZAeJ",
        "outputId": "8ad570da-7399-425c-ad89-35b1745a2102"
      },
      "source": [
        "from google.colab import drive\n",
        "drive.mount('/content/gdrive')\n",
        "\n",
        "from os.path import exists as file_exists\n",
        "\n",
        "import re\n",
        "\n",
        "\"\"\"\n",
        "leitura do arquivo\n",
        "\"\"\" \n",
        "\n",
        "\n",
        "!ls \"/content/gdrive/MyDrive/Colab Notebooks/\"\n",
        "file = '/content/gdrive/MyDrive/Colab Notebooks/palavras.txt'"
      ],
      "execution_count": null,
      "outputs": [
        {
          "output_type": "stream",
          "text": [
            "Drive already mounted at /content/gdrive; to attempt to forcibly remount, call drive.mount(\"/content/gdrive\", force_remount=True).\n",
            "CdiasExercicio2.ipynb  files\t\t  lista1.ipynb\tpalavras.txt\n",
            "Exercicios-2.ipynb     ImagemCloud.ipynb  lista2.ipynb\tparrot.ipynb\n"
          ],
          "name": "stdout"
        }
      ]
    },
    {
      "cell_type": "code",
      "metadata": {
        "colab": {
          "base_uri": "https://localhost:8080/"
        },
        "id": "mgqMmTckcKLX",
        "outputId": "a143feba-a17d-4393-d35d-ce89a6ab1a58"
      },
      "source": [
        "\"\"\"Imprime resultados\"\"\"\n",
        "print(match('[A-Z]\\w+', ler_arquivo(file)))\n",
        "print(match_upper(ler_arquivo(file)))\n"
      ],
      "execution_count": null,
      "outputs": [
        {
          "output_type": "stream",
          "text": [
            "Lorem ipsum dolor sit amet, consectetuer xadipiscing elit. In faucibus nulla vitae arcu. xSuspendisse vitae nunc ac xaugue dictum fermentum. xNam non erat non justo interdum egestas. Sed sed ligula quis elit consectetuer sollicitudin. Bravida adio dolor vitae eros.\n",
            "['Lorem', 'In', 'Suspendisse', 'Nam', 'Sed', 'Bravida']\n",
            "Lorem ipsum dolor sit amet, consectetuer xadipiscing elit. In faucibus nulla vitae arcu. xSuspendisse vitae nunc ac xaugue dictum fermentum. xNam non erat non justo interdum egestas. Sed sed ligula quis elit consectetuer sollicitudin. Bravida adio dolor vitae eros.\n",
            "['Lorem', 'ipsum', 'dolor', 'sit', 'amet,', 'consectetuer', 'xadipiscing', 'elit.', 'In', 'faucibus', 'nulla', 'vitae', 'arcu.', 'xSuspendisse', 'vitae', 'nunc', 'ac', 'xaugue', 'dictum', 'fermentum.', 'xNam', 'non', 'erat', 'non', 'justo', 'interdum', 'egestas.', 'Sed', 'sed', 'ligula', 'quis', 'elit', 'consectetuer', 'sollicitudin.', 'Bravida', 'adio', 'dolor', 'vitae', 'eros.']\n",
            "['Lorem', 'In', 'Sed', 'Bravida']\n"
          ],
          "name": "stdout"
        }
      ]
    },
    {
      "cell_type": "code",
      "metadata": {
        "id": "j_kTHyAjZGvw"
      },
      "source": [
        "\n",
        "\n",
        "\"\"\"Abre arquivo\"\"\"\n",
        "def ler_arquivo(file = ''):\n",
        "    content = '';\n",
        "    try:\n",
        "      with open(file, 'r') as f:\n",
        "        content = f.read()\n",
        "        content.encode('UTF-8')\n",
        "        print(content)\n",
        "        f.close\n",
        "    except FileNotFoundError:\n",
        "        print(\"File does not exist\")\n",
        "    except e:\n",
        "        print(e.errno)\n",
        "    return content  \n"
      ],
      "execution_count": null,
      "outputs": []
    },
    {
      "cell_type": "code",
      "metadata": {
        "id": "Pn2WhRUlcvIM"
      },
      "source": [
        "\"\"\"Método usado para expressao regular\"\"\"\n",
        "def match(pattern, text= ''):\n",
        "\n",
        "    return re.findall(pattern, text)\n"
      ],
      "execution_count": null,
      "outputs": []
    },
    {
      "cell_type": "code",
      "metadata": {
        "id": "kaLxq8JVlPVg"
      },
      "source": [
        "\"\"\"Método usado para iterar as palavras\"\"\"\n",
        "def match_upper(conteudo = ''):\n",
        "    lista1 = conteudo.split()\n",
        "    print(lista1)\n",
        "    lista2 = []\n",
        "    for word in lista1:\n",
        "      if word[0].isupper():\n",
        "        lista2.append(word)\n",
        "    return lista2  "
      ],
      "execution_count": null,
      "outputs": []
    }
  ]
}