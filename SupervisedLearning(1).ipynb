{
  "nbformat": 4,
  "nbformat_minor": 0,
  "metadata": {
    "colab": {
      "name": "SupervisedLearning.ipynb",
      "provenance": [],
      "collapsed_sections": []
    },
    "kernelspec": {
      "display_name": "Python 3",
      "name": "python3"
    },
    "language_info": {
      "name": "python"
    }
  },
  "cells": [
    {
      "cell_type": "code",
      "metadata": {
        "colab": {
          "base_uri": "https://localhost:8080/"
        },
        "id": "EvWdwFUHK8CT",
        "outputId": "ddfd5787-2431-43bc-f53c-2dbe445371e5"
      },
      "source": [
        "!pip install -U -q PyDrive\n",
        "\n",
        "\n",
        "import pandas as pd\n",
        "from datetime import datetime\n",
        "import csv\n",
        "import matplotlib.pyplot as plt\n",
        "import matplotlib.dates as mdates\n",
        "import seaborn as sns\n",
        "from scipy import stats\n",
        "\n",
        "\n",
        "import numpy as np\n",
        "\n",
        "from pydrive.auth import GoogleAuth\n",
        "from pydrive.drive import GoogleDrive\n",
        "from google.colab import auth\n",
        "from google.colab import drive\n",
        "from oauth2client.client import GoogleCredentials\n",
        "from os.path import exists as file_exists\n",
        "\n",
        "\n",
        "# Authenticate and create the PyDrive client.\n",
        "auth.authenticate_user()\n",
        "gauth = GoogleAuth()\n",
        "gauth.credentials = GoogleCredentials.get_application_default()\n",
        "googleDrive = GoogleDrive(gauth)\n",
        "\n",
        "\n",
        "drive.mount('/content/gdrive')\n",
        "\n",
        "#leitura do arquivo\n",
        "!ls \"/content/gdrive/MyDrive/Colab Notebooks/\"\n",
        "file = '/content/gdrive/MyDrive/Colab Notebooks/files/1.csv'\n",
        "\n",
        "file2 = '/content/gdrive/MyDrive/Colab Notebooks/files/2.csv'\n",
        "file3 = '/content/gdrive/MyDrive/Colab Notebooks/files/3.csv'"
      ],
      "execution_count": 357,
      "outputs": [
        {
          "output_type": "stream",
          "text": [
            "Drive already mounted at /content/gdrive; to attempt to forcibly remount, call drive.mount(\"/content/gdrive\", force_remount=True).\n",
            " CdiasExercicio2.ipynb\t   Lista3-2.ipynb\n",
            " estatistica\t\t   lista3.ipynb\n",
            " Exercicio2-parte2.ipynb   medidas_estatisticas.ipynb\n",
            " Exercicios-2.ipynb\t   palavras.txt\n",
            " files\t\t\t   parrot.ipynb\n",
            " IA-LAB1\t\t  'Política e COVID.ipynb'\n",
            " ImagemCloud.ipynb\t  'Política e COVID_NOVO.ipynb'\n",
            " Lista1-IA.ipynb\t   -SupervisedLearning.ipynb\n",
            " lista1.ipynb\t\t   SupervisedLearning.ipynb\n",
            " lista2.ipynb\t\t   tempoxclasse.ipynb\n"
          ],
          "name": "stdout"
        }
      ]
    },
    {
      "cell_type": "markdown",
      "metadata": {
        "id": "wucPlmO7_DDJ"
      },
      "source": [
        "# DataSet com dados de acelerômetro\n",
        "\n"
      ]
    },
    {
      "cell_type": "code",
      "metadata": {
        "colab": {
          "base_uri": "https://localhost:8080/",
          "height": 424
        },
        "id": "I4LtjRASupVe",
        "outputId": "9081fb19-b4b9-44b3-8ab7-60cbc9601767"
      },
      "source": [
        "url = file\n",
        "df = pd.read_csv(url)\n",
        "\n",
        "df"
      ],
      "execution_count": 358,
      "outputs": [
        {
          "output_type": "execute_result",
          "data": {
            "text/html": [
              "<div>\n",
              "<style scoped>\n",
              "    .dataframe tbody tr th:only-of-type {\n",
              "        vertical-align: middle;\n",
              "    }\n",
              "\n",
              "    .dataframe tbody tr th {\n",
              "        vertical-align: top;\n",
              "    }\n",
              "\n",
              "    .dataframe thead th {\n",
              "        text-align: right;\n",
              "    }\n",
              "</style>\n",
              "<table border=\"1\" class=\"dataframe\">\n",
              "  <thead>\n",
              "    <tr style=\"text-align: right;\">\n",
              "      <th></th>\n",
              "      <th>indice</th>\n",
              "      <th>x</th>\n",
              "      <th>y</th>\n",
              "      <th>z</th>\n",
              "      <th>movimento</th>\n",
              "    </tr>\n",
              "  </thead>\n",
              "  <tbody>\n",
              "    <tr>\n",
              "      <th>0</th>\n",
              "      <td>0.0</td>\n",
              "      <td>1502</td>\n",
              "      <td>2215</td>\n",
              "      <td>2153</td>\n",
              "      <td>1</td>\n",
              "    </tr>\n",
              "    <tr>\n",
              "      <th>1</th>\n",
              "      <td>1.0</td>\n",
              "      <td>1667</td>\n",
              "      <td>2072</td>\n",
              "      <td>2047</td>\n",
              "      <td>1</td>\n",
              "    </tr>\n",
              "    <tr>\n",
              "      <th>2</th>\n",
              "      <td>2.0</td>\n",
              "      <td>1611</td>\n",
              "      <td>1957</td>\n",
              "      <td>1906</td>\n",
              "      <td>1</td>\n",
              "    </tr>\n",
              "    <tr>\n",
              "      <th>3</th>\n",
              "      <td>3.0</td>\n",
              "      <td>1601</td>\n",
              "      <td>1939</td>\n",
              "      <td>1831</td>\n",
              "      <td>1</td>\n",
              "    </tr>\n",
              "    <tr>\n",
              "      <th>4</th>\n",
              "      <td>4.0</td>\n",
              "      <td>1643</td>\n",
              "      <td>1965</td>\n",
              "      <td>1879</td>\n",
              "      <td>1</td>\n",
              "    </tr>\n",
              "    <tr>\n",
              "      <th>...</th>\n",
              "      <td>...</td>\n",
              "      <td>...</td>\n",
              "      <td>...</td>\n",
              "      <td>...</td>\n",
              "      <td>...</td>\n",
              "    </tr>\n",
              "    <tr>\n",
              "      <th>111745</th>\n",
              "      <td>130250.0</td>\n",
              "      <td>1903</td>\n",
              "      <td>2385</td>\n",
              "      <td>1995</td>\n",
              "      <td>7</td>\n",
              "    </tr>\n",
              "    <tr>\n",
              "      <th>111746</th>\n",
              "      <td>130250.0</td>\n",
              "      <td>1899</td>\n",
              "      <td>2384</td>\n",
              "      <td>1990</td>\n",
              "      <td>7</td>\n",
              "    </tr>\n",
              "    <tr>\n",
              "      <th>111747</th>\n",
              "      <td>130260.0</td>\n",
              "      <td>1909</td>\n",
              "      <td>2384</td>\n",
              "      <td>1992</td>\n",
              "      <td>7</td>\n",
              "    </tr>\n",
              "    <tr>\n",
              "      <th>111748</th>\n",
              "      <td>130260.0</td>\n",
              "      <td>1902</td>\n",
              "      <td>2388</td>\n",
              "      <td>1989</td>\n",
              "      <td>7</td>\n",
              "    </tr>\n",
              "    <tr>\n",
              "      <th>111749</th>\n",
              "      <td>130260.0</td>\n",
              "      <td>1899</td>\n",
              "      <td>2384</td>\n",
              "      <td>1997</td>\n",
              "      <td>7</td>\n",
              "    </tr>\n",
              "  </tbody>\n",
              "</table>\n",
              "<p>111750 rows × 5 columns</p>\n",
              "</div>"
            ],
            "text/plain": [
              "          indice     x     y     z  movimento\n",
              "0            0.0  1502  2215  2153          1\n",
              "1            1.0  1667  2072  2047          1\n",
              "2            2.0  1611  1957  1906          1\n",
              "3            3.0  1601  1939  1831          1\n",
              "4            4.0  1643  1965  1879          1\n",
              "...          ...   ...   ...   ...        ...\n",
              "111745  130250.0  1903  2385  1995          7\n",
              "111746  130250.0  1899  2384  1990          7\n",
              "111747  130260.0  1909  2384  1992          7\n",
              "111748  130260.0  1902  2388  1989          7\n",
              "111749  130260.0  1899  2384  1997          7\n",
              "\n",
              "[111750 rows x 5 columns]"
            ]
          },
          "metadata": {
            "tags": []
          },
          "execution_count": 358
        }
      ]
    },
    {
      "cell_type": "code",
      "metadata": {
        "colab": {
          "base_uri": "https://localhost:8080/",
          "height": 300
        },
        "id": "ehdcSYvpvgOi",
        "outputId": "6b946aa5-5b13-47cb-d0be-3815ca5dab92"
      },
      "source": [
        "valuesDf = df.drop(columns=['indice', 'movimento'], axis=1)\n",
        "valuesDf.describe()"
      ],
      "execution_count": 359,
      "outputs": [
        {
          "output_type": "execute_result",
          "data": {
            "text/html": [
              "<div>\n",
              "<style scoped>\n",
              "    .dataframe tbody tr th:only-of-type {\n",
              "        vertical-align: middle;\n",
              "    }\n",
              "\n",
              "    .dataframe tbody tr th {\n",
              "        vertical-align: top;\n",
              "    }\n",
              "\n",
              "    .dataframe thead th {\n",
              "        text-align: right;\n",
              "    }\n",
              "</style>\n",
              "<table border=\"1\" class=\"dataframe\">\n",
              "  <thead>\n",
              "    <tr style=\"text-align: right;\">\n",
              "      <th></th>\n",
              "      <th>x</th>\n",
              "      <th>y</th>\n",
              "      <th>z</th>\n",
              "    </tr>\n",
              "  </thead>\n",
              "  <tbody>\n",
              "    <tr>\n",
              "      <th>count</th>\n",
              "      <td>111750.000000</td>\n",
              "      <td>111750.000000</td>\n",
              "      <td>111750.000000</td>\n",
              "    </tr>\n",
              "    <tr>\n",
              "      <th>mean</th>\n",
              "      <td>1916.816260</td>\n",
              "      <td>2379.689315</td>\n",
              "      <td>2046.234577</td>\n",
              "    </tr>\n",
              "    <tr>\n",
              "      <th>std</th>\n",
              "      <td>42.958727</td>\n",
              "      <td>37.594662</td>\n",
              "      <td>62.292015</td>\n",
              "    </tr>\n",
              "    <tr>\n",
              "      <th>min</th>\n",
              "      <td>1455.000000</td>\n",
              "      <td>1697.000000</td>\n",
              "      <td>994.000000</td>\n",
              "    </tr>\n",
              "    <tr>\n",
              "      <th>25%</th>\n",
              "      <td>1888.000000</td>\n",
              "      <td>2374.000000</td>\n",
              "      <td>1993.000000</td>\n",
              "    </tr>\n",
              "    <tr>\n",
              "      <th>50%</th>\n",
              "      <td>1908.000000</td>\n",
              "      <td>2380.000000</td>\n",
              "      <td>2023.000000</td>\n",
              "    </tr>\n",
              "    <tr>\n",
              "      <th>75%</th>\n",
              "      <td>1961.000000</td>\n",
              "      <td>2386.000000</td>\n",
              "      <td>2113.000000</td>\n",
              "    </tr>\n",
              "    <tr>\n",
              "      <th>max</th>\n",
              "      <td>2356.000000</td>\n",
              "      <td>2713.000000</td>\n",
              "      <td>2739.000000</td>\n",
              "    </tr>\n",
              "  </tbody>\n",
              "</table>\n",
              "</div>"
            ],
            "text/plain": [
              "                   x              y              z\n",
              "count  111750.000000  111750.000000  111750.000000\n",
              "mean     1916.816260    2379.689315    2046.234577\n",
              "std        42.958727      37.594662      62.292015\n",
              "min      1455.000000    1697.000000     994.000000\n",
              "25%      1888.000000    2374.000000    1993.000000\n",
              "50%      1908.000000    2380.000000    2023.000000\n",
              "75%      1961.000000    2386.000000    2113.000000\n",
              "max      2356.000000    2713.000000    2739.000000"
            ]
          },
          "metadata": {
            "tags": []
          },
          "execution_count": 359
        }
      ]
    },
    {
      "cell_type": "code",
      "metadata": {
        "id": "sF2aPgBkvjgh",
        "colab": {
          "base_uri": "https://localhost:8080/"
        },
        "outputId": "f325fecc-6ebb-45a0-d8bf-9d80edb3343a"
      },
      "source": [
        "df.info()"
      ],
      "execution_count": 360,
      "outputs": [
        {
          "output_type": "stream",
          "text": [
            "<class 'pandas.core.frame.DataFrame'>\n",
            "RangeIndex: 111750 entries, 0 to 111749\n",
            "Data columns (total 5 columns):\n",
            " #   Column     Non-Null Count   Dtype  \n",
            "---  ------     --------------   -----  \n",
            " 0   indice     111750 non-null  float64\n",
            " 1   x          111750 non-null  int64  \n",
            " 2   y          111750 non-null  int64  \n",
            " 3   z          111750 non-null  int64  \n",
            " 4   movimento  111750 non-null  int64  \n",
            "dtypes: float64(1), int64(4)\n",
            "memory usage: 4.3 MB\n"
          ],
          "name": "stdout"
        }
      ]
    },
    {
      "cell_type": "markdown",
      "metadata": {
        "id": "DncvH2fyvuKF"
      },
      "source": [
        ""
      ]
    },
    {
      "cell_type": "code",
      "metadata": {
        "colab": {
          "base_uri": "https://localhost:8080/",
          "height": 283
        },
        "id": "FIqAgmZmvuSB",
        "outputId": "a5c455a8-37f6-44ea-e808-5e1a5223db3d"
      },
      "source": [
        "# Característica do conjunto original\n",
        "ax = df['x'].value_counts(ascending=True).plot(kind='bar', color=['r','b']);\n",
        "#inserir legendas acima das barras\n",
        "for p in ax.patches:\n",
        "  ax.annotate(str(p.get_height()), (p.get_x() * 1.005, p.get_height() * 1.005),fontsize=14)"
      ],
      "execution_count": 361,
      "outputs": [
        {
          "output_type": "display_data",
          "data": {
            "image/png": "[encoded data removed]",
            "text/plain": [
              "<Figure size 432x288 with 1 Axes>"
            ]
          },
          "metadata": {
            "tags": [],
            "needs_background": "light"
          }
        }
      ]
    },
    {
      "cell_type": "code",
      "metadata": {
        "colab": {
          "base_uri": "https://localhost:8080/",
          "height": 283
        },
        "id": "0afF_GR00Mzd",
        "outputId": "c6fd2946-2d18-4c28-ce5a-887148b8c86c"
      },
      "source": [
        "# Característica do conjunto original\n",
        "ay = df['y'].value_counts(ascending=True).plot(kind='bar', color=['r','b']);\n",
        "#inserir legendas acima das barras\n",
        "for p in ay.patches:\n",
        "  ay.annotate(str(p.get_height()), (p.get_x() * 1.005, p.get_height() * 1.005),fontsize=14)"
      ],
      "execution_count": 362,
      "outputs": [
        {
          "output_type": "display_data",
          "data": {
            "image/png": "[encoded data removed]",
            "text/plain": [
              "<Figure size 432x288 with 1 Axes>"
            ]
          },
          "metadata": {
            "tags": [],
            "needs_background": "light"
          }
        }
      ]
    },
    {
      "cell_type": "code",
      "metadata": {
        "colab": {
          "base_uri": "https://localhost:8080/",
          "height": 283
        },
        "id": "wkVuIEF70daU",
        "outputId": "0a3ff1f3-8fe0-4911-c822-2dfc7bebbf14"
      },
      "source": [
        "# Característica do conjunto original\n",
        "az = df['z'].value_counts(ascending=True).plot(kind='bar', color=['r','b']);\n",
        "#inserir legendas acima das barras\n",
        "for p in az.patches:\n",
        "  az.annotate(str(p.get_height()), (p.get_x() * 1.005, p.get_height() * 1.005),fontsize=14)"
      ],
      "execution_count": 363,
      "outputs": [
        {
          "output_type": "display_data",
          "data": {
            "image/png": "[encoded data removed]",
            "text/plain": [
              "<Figure size 432x288 with 1 Axes>"
            ]
          },
          "metadata": {
            "tags": [],
            "needs_background": "light"
          }
        }
      ]
    },
    {
      "cell_type": "markdown",
      "metadata": {
        "id": "A6LvAEEWvjVS"
      },
      "source": [
        ""
      ]
    },
    {
      "cell_type": "code",
      "metadata": {
        "colab": {
          "base_uri": "https://localhost:8080/"
        },
        "id": "KdUJdSrccV5c",
        "outputId": "162b1140-4017-486d-a149-3492cc28e830"
      },
      "source": [
        "\n",
        "X = df[['x', 'y', 'z']]\n",
        "y = df['movimento']\n",
        "\n",
        "print(X.shape)\n",
        "print(y.shape)\n",
        "\n"
      ],
      "execution_count": 364,
      "outputs": [
        {
          "output_type": "stream",
          "text": [
            "(111750, 3)\n",
            "(111750,)\n"
          ],
          "name": "stdout"
        }
      ]
    },
    {
      "cell_type": "markdown",
      "metadata": {
        "id": "2YV71Ma2_fax"
      },
      "source": [
        "# Sumarização dos dados"
      ]
    },
    {
      "cell_type": "code",
      "metadata": {
        "colab": {
          "base_uri": "https://localhost:8080/"
        },
        "id": "S1pqa8J7ZaDy",
        "outputId": "e3553c4c-280f-427d-ebf3-9202d2f5a6be"
      },
      "source": [
        "print('Quantidade de Movimentos: ', df.movimento.unique())\n",
        "\n",
        "print(np.bincount(y))\n",
        "print(df.movimento.value_counts())\n",
        "#see seaborn chart\n",
        "\n",
        "print('\\n# Qtde. movimento 1 = '+str(len(df.loc[df['movimento'] == 1])))"
      ],
      "execution_count": 365,
      "outputs": [
        {
          "output_type": "stream",
          "text": [
            "Quantidade de Movimentos:  [1 2 3 4 5 6 7]\n",
            "[    0 33677   928  7901 12649  3191  2917 50487]\n",
            "7    50487\n",
            "1    33677\n",
            "4    12649\n",
            "3     7901\n",
            "5     3191\n",
            "6     2917\n",
            "2      928\n",
            "Name: movimento, dtype: int64\n",
            "\n",
            "# Qtde. movimento 1 = 33677\n"
          ],
          "name": "stdout"
        }
      ]
    },
    {
      "cell_type": "markdown",
      "metadata": {
        "id": "aaCmq_SHd1GI"
      },
      "source": [
        "## Divisão do conjunto de dados\n",
        "![image.png](data:image/png;base64,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)\n"
      ]
    },
    {
      "cell_type": "code",
      "metadata": {
        "colab": {
          "base_uri": "https://localhost:8080/"
        },
        "id": "0etULmj7ab2X",
        "outputId": "0ee7bdcc-9539-412f-be7b-7187f04c5b4d"
      },
      "source": [
        "from sklearn.model_selection import train_test_split\n",
        "# Divisão do conjunto de dados\n",
        "X_train, X_test, y_train, y_test = train_test_split(X, y, test_size=0.3, random_state=0)\n",
        "\n",
        "#verificar dimensões dos subconjuntos\n",
        "X_train.shape, X_test.shape, y_train.shape, y_test.shape\n",
        "\n"
      ],
      "execution_count": 366,
      "outputs": [
        {
          "output_type": "execute_result",
          "data": {
            "text/plain": [
              "((78225, 3), (33525, 3), (78225,), (33525,))"
            ]
          },
          "metadata": {
            "tags": []
          },
          "execution_count": 366
        }
      ]
    },
    {
      "cell_type": "code",
      "metadata": {
        "id": "hzwo3ejIkj5m"
      },
      "source": [
        "from sklearn.neighbors import KNeighborsClassifier"
      ],
      "execution_count": 367,
      "outputs": []
    },
    {
      "cell_type": "code",
      "metadata": {
        "colab": {
          "base_uri": "https://localhost:8080/"
        },
        "id": "xNs3q8MEkUy3",
        "outputId": "206168f3-77b2-4324-ff6c-3da43d3ccc04"
      },
      "source": [
        "knn = KNeighborsClassifier(n_neighbors = 7)\n",
        "knn.fit(X_train, y_train)"
      ],
      "execution_count": 368,
      "outputs": [
        {
          "output_type": "execute_result",
          "data": {
            "text/plain": [
              "KNeighborsClassifier(algorithm='auto', leaf_size=30, metric='minkowski',\n",
              "                     metric_params=None, n_jobs=None, n_neighbors=7, p=2,\n",
              "                     weights='uniform')"
            ]
          },
          "metadata": {
            "tags": []
          },
          "execution_count": 368
        }
      ]
    },
    {
      "cell_type": "code",
      "metadata": {
        "colab": {
          "base_uri": "https://localhost:8080/"
        },
        "id": "mxi_Vm31k3a_",
        "outputId": "04318e13-17f8-4579-fdfc-2a75fa025128"
      },
      "source": [
        "print(\"KNN accuracy on test set: \", knn.score(X_test, y_test))\n"
      ],
      "execution_count": 369,
      "outputs": [
        {
          "output_type": "stream",
          "text": [
            "KNN accuracy on test set:  0.8540790454884415\n"
          ],
          "name": "stdout"
        }
      ]
    },
    {
      "cell_type": "markdown",
      "metadata": {
        "id": "aaNy5_LllBub"
      },
      "source": [
        "# Validação Cruzada, Matriz de Confusão e Gráficos\n",
        "**VALIDAÇÃO CRUZADA**\n"
      ]
    },
    {
      "cell_type": "code",
      "metadata": {
        "colab": {
          "base_uri": "https://localhost:8080/"
        },
        "id": "IHkMqzFjlV1L",
        "outputId": "447bb37c-7df0-400d-d871-cbb016372ef4"
      },
      "source": [
        "from sklearn.model_selection import cross_val_score\n",
        "\n",
        "cv_scores = cross_val_score(knn, X, y, cv=10)\n",
        "print('Cross-validation score with 10 folds:', cv_scores)\n",
        "print('Mean cross-validation score with 10 folds: {:.3f}'.format(np.mean(cv_scores)))\n"
      ],
      "execution_count": 370,
      "outputs": [
        {
          "output_type": "stream",
          "text": [
            "Cross-validation score with 10 folds: [0.60286353 0.83239374 0.889217   0.84411633 0.84912752 0.85243848\n",
            " 0.86791946 0.84706935 0.85807606 0.77494407]\n",
            "Mean cross-validation score with 10 folds: 0.822\n"
          ],
          "name": "stdout"
        }
      ]
    },
    {
      "cell_type": "markdown",
      "metadata": {
        "id": "eumN13iyliph"
      },
      "source": [
        "**MATRIZ DE CONFUSÃO**"
      ]
    },
    {
      "cell_type": "code",
      "metadata": {
        "colab": {
          "base_uri": "https://localhost:8080/",
          "height": 300
        },
        "id": "CRqyXUmclkiO",
        "outputId": "247a5716-379a-4fbd-b6b5-931d597c97e7"
      },
      "source": [
        "#from sklearn.metrics import confusion_matrix\n",
        "#confusion = confusion_matrix(y, knn.predict(X))\n",
        "#confusion\n",
        "pd.crosstab(y, knn.predict(X), colnames=['Predita'])"
      ],
      "execution_count": 371,
      "outputs": [
        {
          "output_type": "execute_result",
          "data": {
            "text/html": [
              "<div>\n",
              "<style scoped>\n",
              "    .dataframe tbody tr th:only-of-type {\n",
              "        vertical-align: middle;\n",
              "    }\n",
              "\n",
              "    .dataframe tbody tr th {\n",
              "        vertical-align: top;\n",
              "    }\n",
              "\n",
              "    .dataframe thead th {\n",
              "        text-align: right;\n",
              "    }\n",
              "</style>\n",
              "<table border=\"1\" class=\"dataframe\">\n",
              "  <thead>\n",
              "    <tr style=\"text-align: right;\">\n",
              "      <th>Predita</th>\n",
              "      <th>1</th>\n",
              "      <th>2</th>\n",
              "      <th>3</th>\n",
              "      <th>4</th>\n",
              "      <th>5</th>\n",
              "      <th>6</th>\n",
              "      <th>7</th>\n",
              "    </tr>\n",
              "    <tr>\n",
              "      <th>movimento</th>\n",
              "      <th></th>\n",
              "      <th></th>\n",
              "      <th></th>\n",
              "      <th></th>\n",
              "      <th></th>\n",
              "      <th></th>\n",
              "      <th></th>\n",
              "    </tr>\n",
              "  </thead>\n",
              "  <tbody>\n",
              "    <tr>\n",
              "      <th>1</th>\n",
              "      <td>33016</td>\n",
              "      <td>19</td>\n",
              "      <td>40</td>\n",
              "      <td>331</td>\n",
              "      <td>86</td>\n",
              "      <td>8</td>\n",
              "      <td>177</td>\n",
              "    </tr>\n",
              "    <tr>\n",
              "      <th>2</th>\n",
              "      <td>85</td>\n",
              "      <td>217</td>\n",
              "      <td>55</td>\n",
              "      <td>370</td>\n",
              "      <td>43</td>\n",
              "      <td>12</td>\n",
              "      <td>146</td>\n",
              "    </tr>\n",
              "    <tr>\n",
              "      <th>3</th>\n",
              "      <td>31</td>\n",
              "      <td>39</td>\n",
              "      <td>4244</td>\n",
              "      <td>460</td>\n",
              "      <td>88</td>\n",
              "      <td>106</td>\n",
              "      <td>2933</td>\n",
              "    </tr>\n",
              "    <tr>\n",
              "      <th>4</th>\n",
              "      <td>474</td>\n",
              "      <td>75</td>\n",
              "      <td>355</td>\n",
              "      <td>10248</td>\n",
              "      <td>386</td>\n",
              "      <td>173</td>\n",
              "      <td>938</td>\n",
              "    </tr>\n",
              "    <tr>\n",
              "      <th>5</th>\n",
              "      <td>165</td>\n",
              "      <td>22</td>\n",
              "      <td>37</td>\n",
              "      <td>1096</td>\n",
              "      <td>1419</td>\n",
              "      <td>38</td>\n",
              "      <td>414</td>\n",
              "    </tr>\n",
              "    <tr>\n",
              "      <th>6</th>\n",
              "      <td>90</td>\n",
              "      <td>21</td>\n",
              "      <td>252</td>\n",
              "      <td>1572</td>\n",
              "      <td>110</td>\n",
              "      <td>467</td>\n",
              "      <td>405</td>\n",
              "    </tr>\n",
              "    <tr>\n",
              "      <th>7</th>\n",
              "      <td>216</td>\n",
              "      <td>58</td>\n",
              "      <td>1244</td>\n",
              "      <td>1149</td>\n",
              "      <td>88</td>\n",
              "      <td>92</td>\n",
              "      <td>47640</td>\n",
              "    </tr>\n",
              "  </tbody>\n",
              "</table>\n",
              "</div>"
            ],
            "text/plain": [
              "Predita        1    2     3      4     5    6      7\n",
              "movimento                                           \n",
              "1          33016   19    40    331    86    8    177\n",
              "2             85  217    55    370    43   12    146\n",
              "3             31   39  4244    460    88  106   2933\n",
              "4            474   75   355  10248   386  173    938\n",
              "5            165   22    37   1096  1419   38    414\n",
              "6             90   21   252   1572   110  467    405\n",
              "7            216   58  1244   1149    88   92  47640"
            ]
          },
          "metadata": {
            "tags": []
          },
          "execution_count": 371
        }
      ]
    },
    {
      "cell_type": "code",
      "metadata": {
        "colab": {
          "base_uri": "https://localhost:8080/",
          "height": 296
        },
        "id": "8qSakSpXlzD2",
        "outputId": "31fb9c43-f92b-4020-b574-6c17fefc4710"
      },
      "source": [
        "from sklearn.metrics import plot_confusion_matrix\n",
        "plot_confusion_matrix(knn, X, y)"
      ],
      "execution_count": 372,
      "outputs": [
        {
          "output_type": "execute_result",
          "data": {
            "text/plain": [
              "<sklearn.metrics._plot.confusion_matrix.ConfusionMatrixDisplay at 0x7ff50e931bd0>"
            ]
          },
          "metadata": {
            "tags": []
          },
          "execution_count": 372
        },
        {
          "output_type": "display_data",
          "data": {
            "image/png": "[encoded data removed]",
            "text/plain": [
              "<Figure size 432x288 with 2 Axes>"
            ]
          },
          "metadata": {
            "tags": [],
            "needs_background": "light"
          }
        }
      ]
    },
    {
      "cell_type": "code",
      "metadata": {
        "colab": {
          "base_uri": "https://localhost:8080/"
        },
        "id": "nV8G_x7il__J",
        "outputId": "8855354d-57c7-4dd9-e29e-18004fbfce87"
      },
      "source": [
        "from sklearn.metrics import classification_report, confusion_matrix, accuracy_score\n",
        "y_pred = knn.predict(X_test)\n",
        "print(\"Relatório de classificação: \\n\", classification_report(y_test, y_pred))  "
      ],
      "execution_count": 373,
      "outputs": [
        {
          "output_type": "stream",
          "text": [
            "Relatório de classificação: \n",
            "               precision    recall  f1-score   support\n",
            "\n",
            "           1       0.96      0.97      0.97     10094\n",
            "           2       0.35      0.18      0.24       288\n",
            "           3       0.63      0.49      0.55      2342\n",
            "           4       0.64      0.77      0.70      3790\n",
            "           5       0.56      0.37      0.44       928\n",
            "           6       0.39      0.13      0.20       865\n",
            "           7       0.89      0.93      0.91     15218\n",
            "\n",
            "    accuracy                           0.85     33525\n",
            "   macro avg       0.63      0.55      0.57     33525\n",
            "weighted avg       0.84      0.85      0.84     33525\n",
            "\n"
          ],
          "name": "stdout"
        }
      ]
    },
    {
      "cell_type": "markdown",
      "metadata": {
        "id": "q8t78NCP3EqD"
      },
      "source": [
        "# Normalizar o Dataframe de Pandas com o mean Normalização\n",
        "\n",
        "A normalização mean é uma das maneiras mais fáceis de normalizar os Dataframes de intervalos variados. A normalização é feita subtraindo a média e dividindo pelo desvio padrão para todos os elementos do dataframe."
      ]
    },
    {
      "cell_type": "code",
      "metadata": {
        "id": "5ozNw6tl4Q5B"
      },
      "source": [
        "def mean_norm(df_input):\n",
        "    return df_input.apply(lambda x: (x-x.mean())/ x.std(), axis=0)"
      ],
      "execution_count": 374,
      "outputs": []
    },
    {
      "cell_type": "code",
      "metadata": {
        "colab": {
          "base_uri": "https://localhost:8080/"
        },
        "id": "SK6FAPKA4_ic",
        "outputId": "d7612995-9566-495f-a7e5-c49bcc5c261c"
      },
      "source": [
        "print(mean_norm(df))"
      ],
      "execution_count": 375,
      "outputs": [
        {
          "output_type": "stream",
          "text": [
            "          indice         x          y         z  movimento\n",
            "0      -1.626213 -9.656158  -4.380657  1.713950  -1.319298\n",
            "1      -1.626188 -5.815262  -8.184388  0.012288  -1.319298\n",
            "2      -1.626163 -7.118839 -11.243333 -2.251245  -1.319298\n",
            "3      -1.626138 -7.351621 -11.722125 -3.455251  -1.319298\n",
            "4      -1.626114 -6.373938 -11.030537 -2.684687  -1.319298\n",
            "...          ...       ...        ...       ...        ...\n",
            "111745  1.599832 -0.321617   0.141262 -0.822490   0.978647\n",
            "111746  1.599832 -0.414730   0.114662 -0.902757   0.978647\n",
            "111747  1.600080 -0.181948   0.114662 -0.870651   0.978647\n",
            "111748  1.600080 -0.344895   0.221060 -0.918811   0.978647\n",
            "111749  1.600080 -0.414730   0.114662 -0.790383   0.978647\n",
            "\n",
            "[111750 rows x 5 columns]\n"
          ],
          "name": "stdout"
        }
      ]
    },
    {
      "cell_type": "markdown",
      "metadata": {
        "id": "ZxDwn0rk4j7k"
      },
      "source": [
        "# Normalizar Pandas Dataframe com a Normalização min-max\n",
        "\n",
        "Este é um dos métodos amplamente utilizados para a normalização. O resultado da normalização subtrai o valor mínimo de um quadro de dados e divide-o pela diferença entre o valor mais alto e mais baixo da coluna correspondente."
      ]
    },
    {
      "cell_type": "code",
      "metadata": {
        "id": "4Ec2MMpO4TCj"
      },
      "source": [
        "def minmax_norm(df_input):\n",
        "    return (df - df.min()) / ( df.max() - df.min())"
      ],
      "execution_count": 376,
      "outputs": []
    },
    {
      "cell_type": "code",
      "metadata": {
        "colab": {
          "base_uri": "https://localhost:8080/"
        },
        "id": "ujMRQ0RB5OFu",
        "outputId": "8fa3a9fb-9a93-48db-c98b-cfee78f783b9"
      },
      "source": [
        "print(minmax_norm(df))"
      ],
      "execution_count": 377,
      "outputs": [
        {
          "output_type": "stream",
          "text": [
            "          indice         x         y         z  movimento\n",
            "0       0.000000  0.052164  0.509843  0.664183        0.0\n",
            "1       0.000008  0.235294  0.369094  0.603438        0.0\n",
            "2       0.000015  0.173141  0.255906  0.522636        0.0\n",
            "3       0.000023  0.162042  0.238189  0.479656        0.0\n",
            "4       0.000031  0.208657  0.263780  0.507163        0.0\n",
            "...          ...       ...       ...       ...        ...\n",
            "111745  0.999923  0.497225  0.677165  0.573639        1.0\n",
            "111746  0.999923  0.492786  0.676181  0.570774        1.0\n",
            "111747  1.000000  0.503885  0.676181  0.571920        1.0\n",
            "111748  1.000000  0.496115  0.680118  0.570201        1.0\n",
            "111749  1.000000  0.492786  0.676181  0.574785        1.0\n",
            "\n",
            "[111750 rows x 5 columns]\n"
          ],
          "name": "stdout"
        }
      ]
    },
    {
      "cell_type": "markdown",
      "metadata": {
        "id": "zNYHkX0X4moP"
      },
      "source": [
        "# Normalize Dataframe Pandas com a normalização quantil\n",
        "\n",
        "A normalização quantitativa é utilizada no caso de análises de dados de alta dimensão. Observa e assume que a distribuição estatística de cada coluna é uma e a mesma. A normalização de quantidades consiste nas seguintes etapas:\n",
        "\n",
        "    Valores de ordem dentro de cada coluna (Ranking)\n",
        "    Média através de cada linha e substituir o valor de cada elemento da linha pela média\n",
        "    Reordenar valores para a ordem original como inicialmente."
      ]
    },
    {
      "cell_type": "code",
      "metadata": {
        "id": "-aHHex5P4Tn4"
      },
      "source": [
        "def quantile_norm(df_input):\n",
        "    sorted_df = pd.DataFrame(np.sort(df_input.values,axis=0), index=df_input.index, columns=df_input.columns)\n",
        "    mean_df = sorted_df.mean(axis=1)\n",
        "    mean_df.index = np.arange(1, len(mean_df) + 1)\n",
        "    quantile_df =df_input.rank(method=\"min\").stack().astype(int).map(mean_df).unstack()\n",
        "    return(quantile_df)"
      ],
      "execution_count": 378,
      "outputs": []
    },
    {
      "cell_type": "code",
      "metadata": {
        "colab": {
          "base_uri": "https://localhost:8080/"
        },
        "id": "cAFEONbQ5UjR",
        "outputId": "94e5fcc8-48b8-407c-dfa7-661a11c02751"
      },
      "source": [
        "print(quantile_norm(df))"
      ],
      "execution_count": 379,
      "outputs": [
        {
          "output_type": "stream",
          "text": [
            "         indice        x        y        z  movimento\n",
            "0         829.4   1017.4   1206.4  26868.6      829.4\n",
            "1         994.4   1171.4   1128.4  17931.0      829.4\n",
            "2        1007.8   1113.0   1063.6   1177.2      829.4\n",
            "3        1017.4   1096.2   1048.0   1091.8      829.4\n",
            "4        1022.0   1154.6   1074.0   1129.2      829.4\n",
            "...         ...      ...      ...      ...        ...\n",
            "111745  27484.4  10310.6  20234.6   7138.0    17017.2\n",
            "111746  27484.4   9309.0  19362.8   5685.0    17017.2\n",
            "111747  27519.2  16116.6  19362.8   6315.8    17017.2\n",
            "111748  27519.2  10044.4  23514.4   5432.2    17017.2\n",
            "111749  27519.2   9309.0  19362.8   7713.0    17017.2\n",
            "\n",
            "[111750 rows x 5 columns]\n"
          ],
          "name": "stdout"
        }
      ]
    },
    {
      "cell_type": "markdown",
      "metadata": {
        "id": "YrDZZHaC_4AU"
      },
      "source": [
        "## Métrica Z-Score\n",
        "> * A pontuação Z redimensiona e centra (normaliza) os dados e procura pontos de dados que estão muito longe de zero (centro);\n",
        "* Os pontos de dados distantes de zero serão tratados como outliers. Na maioria dos casos, um limite de 3 ou -3 é usado, ou seja, se o valor de pontuação Z for maior ou menor que 3 ou -3, respectivamente, esse ponto de dados será identificado como outliers.\n"
      ]
    },
    {
      "cell_type": "code",
      "metadata": {
        "colab": {
          "base_uri": "https://localhost:8080/"
        },
        "id": "60fmVmnH_6Lk",
        "outputId": "30b42579-a838-4b9c-e79c-d32fed40ca9c"
      },
      "source": [
        "from scipy import stats\n",
        "\n",
        "z=np.abs(stats.zscore(df['x']))\n",
        "print(z)\n"
      ],
      "execution_count": 380,
      "outputs": [
        {
          "output_type": "stream",
          "text": [
            "[9.65620131 5.81528818 7.11887082 ... 0.18194893 0.34489676 0.41473155]\n"
          ],
          "name": "stdout"
        }
      ]
    },
    {
      "cell_type": "markdown",
      "metadata": {
        "id": "f6n722ZTA9ym"
      },
      "source": [
        "É difícil dizer qual ponto de dados é um outlier. Vamos tentar definir um limite (threshold) para identificar um outlier;\n",
        "Neste caso usaremos o valor de limite (threshold) = 2,5\n",
        "\n"
      ]
    },
    {
      "cell_type": "code",
      "metadata": {
        "colab": {
          "base_uri": "https://localhost:8080/"
        },
        "id": "y9BTDxlwA-Tl",
        "outputId": "6aab3f1b-c836-430c-ceac-c392b0d20841"
      },
      "source": [
        "threshold = 3\n",
        "print(np.where(z > threshold))"
      ],
      "execution_count": 381,
      "outputs": [
        {
          "output_type": "stream",
          "text": [
            "(array([    0,     1,     2,     3,     4,     5,     6,     7,     8,\n",
            "           9,    10,    11,    12,    13,    14,    15,    16,    17,\n",
            "          18,    19,    20,    21,    22,    23,    24,    25,    26,\n",
            "          27,    28,    29,    30,    31,    32,    33,    34,    35,\n",
            "          36,    37,    38,    39,    40,    41,    42,    43,    44,\n",
            "          45,    46,    47,    48,    49,    50,    51,    52,    53,\n",
            "          54,    55,    56,    57,    58,    59,    60,    61,    62,\n",
            "          63,    64,    65,    66,    67,    68,    69,    70,    71,\n",
            "          72,    73,    74,    75,    76,    77,    78,    79,    80,\n",
            "          81,    82,    83,    84,    85,    86,    87,    88,    89,\n",
            "          90,    91,    92,    93,    94,    95,    96,    97,    98,\n",
            "          99,   100,   101,   102,   103,   104,   105,   106,   107,\n",
            "         108,   109,   110,   111,   112,   113,   114,   115,   116,\n",
            "         117,   124,   125,   138,   139,   140,   141,   147,   148,\n",
            "         149,   150,   151,   152,   153,   155,   156,   157,   158,\n",
            "         159,   160,   161,   162,   163,   164,   167,   168,   169,\n",
            "         170,   171,   172,   173,   174,   175,   176,   177,   178,\n",
            "         179,   180,   181,   182,   183,   184,   185,   186,   187,\n",
            "         188,   189,   190,   192,   193,   194,   196,   197,   198,\n",
            "         199,   200,   205,   206,   207,   237,   238,   239,   245,\n",
            "         246,   253,   265,   266,   286,   287,   299,   300, 32889,\n",
            "       32890, 32891, 32892, 32893, 32894, 32895, 32896, 32897, 32898,\n",
            "       32899, 32902, 32903, 32904, 32917, 33006, 33561, 33566, 33577,\n",
            "       33582, 33583, 33588, 33601, 33602, 33603, 34390, 34812, 38989,\n",
            "       39067, 39123, 39154, 39337, 39905, 39956, 39981, 39982, 40159,\n",
            "       40275, 40276, 40329, 40363, 40389, 40511, 40569, 40571, 40572,\n",
            "       40573, 40574, 40575, 40576, 40577, 40578, 40807, 40808, 40809,\n",
            "       40810, 40811, 40812, 40813, 40935, 41105, 41106, 41107, 41161,\n",
            "       41162, 41163, 41164, 41218, 41219, 41220, 41221, 41222, 41278,\n",
            "       41279, 41327, 41328, 41330, 41383, 41448, 41479, 41554, 41561,\n",
            "       42022, 42121, 42137, 42138, 42139, 42140, 42195, 42196, 42202,\n",
            "       42258, 42357, 42395, 42530, 42828, 43128, 43185, 43186, 43187,\n",
            "       43396, 43421, 43422, 43423, 43425, 43481, 43482, 43538, 43539,\n",
            "       43540, 43594, 43595, 43596, 43650, 43651, 43652, 43704, 43705,\n",
            "       43706, 43707, 43762, 43763, 43815, 43816, 43817, 43917, 43918,\n",
            "       43925, 43971, 43972, 43973, 44026, 44027, 44075, 44076, 44128,\n",
            "       44129, 44180, 44181, 44182, 44232, 44233, 44284, 44285, 44337,\n",
            "       44384, 44437, 44438, 44493, 44494, 44540, 44541, 44542, 44543,\n",
            "       44544, 44545, 44600, 44657, 44713, 44714, 44770, 44771, 45035,\n",
            "       45057, 45086, 45109, 45110, 45139, 45164, 45216, 45246, 45271,\n",
            "       45302, 45326, 45356, 45380, 45381, 45429, 45487, 45541, 45542,\n",
            "       45591, 45592, 45826, 45859, 45886, 45937, 45938, 45939, 45942,\n",
            "       45998, 45999, 46001, 46055, 46056, 46057, 46109, 46110, 46113,\n",
            "       46168, 46169, 46170, 46172, 46226, 46227, 46228, 46230, 46335,\n",
            "       46336, 46337, 46390, 46391, 46392, 46440, 46442, 46443, 46497,\n",
            "       46498, 46553, 46555, 46604, 46605, 46660, 46744, 46821, 46873,\n",
            "       46874, 46875, 47029, 47030, 47083, 47084, 47134, 47188, 47242,\n",
            "       47243, 47403, 47823, 47824, 47825, 48082, 48192, 48193, 48244,\n",
            "       48245, 48246, 48299, 48354, 48661, 48691, 48692, 48820, 48880,\n",
            "       48974, 49024, 49025, 49026, 49078, 49079, 49080, 49108, 49181,\n",
            "       49182, 49211, 49234, 49235, 49287, 49290, 49294, 49337, 49338,\n",
            "       49339, 49390, 49391, 49443, 49444, 49490, 49491, 49492, 49545,\n",
            "       49546, 49597, 49598, 49599, 49647, 49648, 49649, 49699, 49700,\n",
            "       49701, 49754, 49755, 49808, 49809, 49861, 49913, 49914, 49915,\n",
            "       49967, 50013, 50014, 50021, 50065, 50066, 50067, 50118, 50119,\n",
            "       50121, 50167, 50168, 50169, 50222, 50274, 50275, 50276, 50277,\n",
            "       50307, 50327, 50328, 50380, 50381, 50434, 50488, 50589, 50590,\n",
            "       50643, 50690, 50691, 50698, 50722, 50725, 50726, 50899, 50900,\n",
            "       50949, 50950, 50951, 50952, 51050, 51104, 51105, 51135, 52569,\n",
            "       52570, 52571, 52592, 52598, 52762, 52811, 52812, 52949, 52979,\n",
            "       53090, 53250, 53251, 53331, 53371, 53372, 53421, 53422, 53423,\n",
            "       53492, 53493, 53494, 53515, 53596, 53616, 53617, 53724, 53757,\n",
            "       53781, 53782, 53800, 53833, 53834, 53857, 53895, 54089, 54090,\n",
            "       54333, 54458, 54587, 54588, 54747, 54865, 54866, 54867, 55024,\n",
            "       55025, 55027, 55080, 55081, 55082, 55083, 55243, 55244, 55245,\n",
            "       55302, 55303, 55356, 55357, 55394, 55395, 55396, 59222, 59371,\n",
            "       59428, 59429, 59430, 59457, 59458, 59516, 59517, 59577, 59578,\n",
            "       59579, 59747, 59764, 59827, 59876, 59919, 59920, 59974, 59981,\n",
            "       60004, 60028, 60080, 60081, 60090, 60136, 60138, 60145, 60191,\n",
            "       60192, 60217, 60239, 60240, 60242, 60270, 60292, 60322, 60346,\n",
            "       60524, 60636, 60639, 60693, 60744, 60796, 60797, 60798, 60801,\n",
            "       60808, 60827, 60828, 60832, 60847, 60848, 60849, 60852, 60859,\n",
            "       60878, 60902, 60903, 60961, 60962, 61145, 62397, 62398, 62399,\n",
            "       62400, 62507, 63142, 63143, 63144, 63153, 63154, 63295, 63350,\n",
            "       63351, 63352, 64010]),)\n"
          ],
          "name": "stdout"
        }
      ]
    },
    {
      "cell_type": "markdown",
      "metadata": {
        "id": "8fbyKFBSBxCk"
      },
      "source": [
        "A primeira matriz contém a lista de números de linha e a segunda matriz de respectivos números de coluna, o que significa que z [10][0] tem um Z-score superior a 3."
      ]
    },
    {
      "cell_type": "markdown",
      "metadata": {
        "id": "EXBuHcWIB61r"
      },
      "source": [
        "Interquartile Range(IQR)\n",
        "\n",
        "A medida de variabilidade IQR, com base na divisão de um conjunto de dados em quartis chamados de primeiro, segundo e terceiro quartis; e eles são denotados por Q1, Q2 e Q3, respectivamente.\n",
        "\n",
        "    Q1 é o valor médio na primeira metade.\n",
        "    Q2 é o valor médio do conjunto.\n",
        "    Q3 é o valor médio na segunda metade.\n"
      ]
    },
    {
      "cell_type": "code",
      "metadata": {
        "colab": {
          "base_uri": "https://localhost:8080/"
        },
        "id": "g0ZZZzLaB_vO",
        "outputId": "6d6c32c4-e1bb-4a40-e420-7d399bc150ca"
      },
      "source": [
        "Q1=df.quantile(0.25)\n",
        "Q3=df.quantile(0.75)\n",
        "IQR=Q3-Q1\n",
        "lowqe_bound=Q1 - 1.5 * IQR\n",
        "upper_bound=Q3 + 1.5 * IQR\n",
        "print(lowqe_bound,\"\\n\\n\",upper_bound)"
      ],
      "execution_count": 382,
      "outputs": [
        {
          "output_type": "stream",
          "text": [
            "indice      -83396.875\n",
            "x             1778.500\n",
            "y             2356.000\n",
            "z             1813.000\n",
            "movimento       -8.000\n",
            "dtype: float64 \n",
            "\n",
            " indice       213494.125\n",
            "x              2070.500\n",
            "y              2404.000\n",
            "z              2293.000\n",
            "movimento        16.000\n",
            "dtype: float64\n"
          ],
          "name": "stdout"
        }
      ]
    },
    {
      "cell_type": "markdown",
      "metadata": {
        "id": "jHBWWgfrCTPS"
      },
      "source": [
        "## Removendo Outliers\n",
        "> * **Z-Score**\n"
      ]
    },
    {
      "cell_type": "code",
      "metadata": {
        "colab": {
          "base_uri": "https://localhost:8080/",
          "height": 296
        },
        "id": "6k_Omwc0CU28",
        "outputId": "03fedf3f-f208-4ff9-b2ce-5480b6469481"
      },
      "source": [
        "z_price=df[(z < threshold)]\n",
        "# Exibindo as dimensões dos DataFrames com e sem outlier\n",
        "df.shape,z_price['x'].shape\n",
        "\n",
        "sns.boxplot(x=z_price['x'])"
      ],
      "execution_count": 383,
      "outputs": [
        {
          "output_type": "execute_result",
          "data": {
            "text/plain": [
              "<matplotlib.axes._subplots.AxesSubplot at 0x7ff529bdbad0>"
            ]
          },
          "metadata": {
            "tags": []
          },
          "execution_count": 383
        },
        {
          "output_type": "display_data",
          "data": {
            "image/png": "[encoded data removed]",
            "text/plain": [
              "<Figure size 432x288 with 1 Axes>"
            ]
          },
          "metadata": {
            "tags": [],
            "needs_background": "light"
          }
        }
      ]
    },
    {
      "cell_type": "markdown",
      "metadata": {
        "id": "U_OA7ONJmyvj"
      },
      "source": [
        "**GRÁFICOS**"
      ]
    },
    {
      "cell_type": "code",
      "metadata": {
        "colab": {
          "base_uri": "https://localhost:8080/",
          "height": 279
        },
        "id": "D8I1K1pTm0BK",
        "outputId": "09de0ec8-49ce-4a06-da99-9264d74953de"
      },
      "source": [
        "#number of examples in each class \n",
        "%matplotlib inline\n",
        "\n",
        "\n",
        "df.movimento.value_counts().plot(kind='bar')"
      ],
      "execution_count": 384,
      "outputs": [
        {
          "output_type": "execute_result",
          "data": {
            "text/plain": [
              "<matplotlib.axes._subplots.AxesSubplot at 0x7ff510389610>"
            ]
          },
          "metadata": {
            "tags": []
          },
          "execution_count": 384
        },
        {
          "output_type": "display_data",
          "data": {
            "image/png": "[encoded data removed]",
            "text/plain": [
              "<Figure size 432x288 with 1 Axes>"
            ]
          },
          "metadata": {
            "tags": [],
            "needs_background": "light"
          }
        }
      ]
    },
    {
      "cell_type": "code",
      "metadata": {
        "id": "duHXWfBzncab",
        "colab": {
          "base_uri": "https://localhost:8080/",
          "height": 279
        },
        "outputId": "2f3c84f1-20a2-424f-9301-c0365f5cfbfc"
      },
      "source": [
        "import seaborn as sns\n",
        "%matplotlib inline\n",
        "sns.countplot(x=df['movimento'], palette=\"Set3\")\n",
        "plt.show()"
      ],
      "execution_count": 385,
      "outputs": [
        {
          "output_type": "display_data",
          "data": {
            "image/png": "[encoded data removed]",
            "text/plain": [
              "<Figure size 432x288 with 1 Axes>"
            ]
          },
          "metadata": {
            "tags": [],
            "needs_background": "light"
          }
        }
      ]
    },
    {
      "cell_type": "code",
      "metadata": {
        "colab": {
          "base_uri": "https://localhost:8080/",
          "height": 602
        },
        "id": "pLBk2CoSnlyP",
        "outputId": "26a1faa1-7a04-483c-9a65-5fd2d8b49d0f"
      },
      "source": [
        "values = df.drop(columns=['indice', 'movimento'], axis=1)\n",
        "values.plot(kind='box', subplots=True, layout=(2,2), sharex=False, sharey=False, figsize=(9,9), title='Box Plot for each input variable')\n",
        "plt.savefig('coordenadas')\n",
        "plt.show()"
      ],
      "execution_count": 386,
      "outputs": [
        {
          "output_type": "display_data",
          "data": {
            "image/png": "[encoded data removed]",
            "text/plain": [
              "<Figure size 648x648 with 4 Axes>"
            ]
          },
          "metadata": {
            "tags": [],
            "needs_background": "light"
          }
        }
      ]
    },
    {
      "cell_type": "code",
      "metadata": {
        "colab": {
          "base_uri": "https://localhost:8080/",
          "height": 879
        },
        "id": "AESMnIvWobol",
        "outputId": "fef47fc3-0aeb-4bdd-e274-9f259695eebb"
      },
      "source": [
        "%matplotlib inline\n",
        "import matplotlib.pyplot as plt\n",
        "values = df.drop(columns=['indice', 'movimento'], axis=1)\n",
        "values.hist(column=['x', 'y', 'z'], bins=10, figsize=(20,15))\n",
        "plt.show()"
      ],
      "execution_count": 387,
      "outputs": [
        {
          "output_type": "display_data",
          "data": {
            "image/png": "[encoded data removed]",
            "text/plain": [
              "<Figure size 1440x1080 with 4 Axes>"
            ]
          },
          "metadata": {
            "tags": [],
            "needs_background": "light"
          }
        }
      ]
    },
    {
      "cell_type": "code",
      "metadata": {
        "id": "LGkSxYW1pSoA",
        "colab": {
          "base_uri": "https://localhost:8080/",
          "height": 282
        },
        "outputId": "a7db0dcb-f271-4acc-929f-09c1fa9d0626"
      },
      "source": [
        "%matplotlib inline\n",
        "values = df.drop(columns=['indice', 'movimento'], axis=1)\n",
        "values.plot()\n",
        "\n"
      ],
      "execution_count": 388,
      "outputs": [
        {
          "output_type": "execute_result",
          "data": {
            "text/plain": [
              "<matplotlib.axes._subplots.AxesSubplot at 0x7ff52b0bda90>"
            ]
          },
          "metadata": {
            "tags": []
          },
          "execution_count": 388
        },
        {
          "output_type": "display_data",
          "data": {
            "image/png": "[encoded data removed]",
            "text/plain": [
              "<Figure size 432x288 with 1 Axes>"
            ]
          },
          "metadata": {
            "tags": [],
            "needs_background": "light"
          }
        }
      ]
    },
    {
      "cell_type": "code",
      "metadata": {
        "id": "yWY21UZRrvpC",
        "colab": {
          "base_uri": "https://localhost:8080/",
          "height": 300
        },
        "outputId": "c7a2e86a-3d97-412d-b2aa-fc123813ca88"
      },
      "source": [
        "df.boxplot(column=['x','y','z'])\n",
        "\n",
        "x=np.abs(stats.zscore(df['x']))\n",
        "print(x)\n",
        "\n",
        "threshold = 2000\n",
        "print(np.where(x < threshold))\n",
        "\n",
        "df.x = x"
      ],
      "execution_count": 389,
      "outputs": [
        {
          "output_type": "stream",
          "text": [
            "[9.65620131 5.81528818 7.11887082 ... 0.18194893 0.34489676 0.41473155]\n",
            "(array([     0,      1,      2, ..., 111747, 111748, 111749]),)\n"
          ],
          "name": "stdout"
        },
        {
          "output_type": "display_data",
          "data": {
            "image/png": "[encoded data removed]",
            "text/plain": [
              "<Figure size 432x288 with 1 Axes>"
            ]
          },
          "metadata": {
            "tags": [],
            "needs_background": "light"
          }
        }
      ]
    },
    {
      "cell_type": "code",
      "metadata": {
        "id": "mJD9vHPSspme",
        "colab": {
          "base_uri": "https://localhost:8080/",
          "height": 261
        },
        "outputId": "4ecd949e-7390-4720-ecd9-64f4b5c46eaa"
      },
      "source": [
        "values = df.drop(columns=['indice', 'movimento'], axis=1)\n",
        "axs = values.plot.area(figsize=(12, 4), subplots=True)"
      ],
      "execution_count": 390,
      "outputs": [
        {
          "output_type": "display_data",
          "data": {
            "image/png": "[encoded data removed]",
            "text/plain": [
              "<Figure size 864x288 with 3 Axes>"
            ]
          },
          "metadata": {
            "tags": [],
            "needs_background": "light"
          }
        }
      ]
    },
    {
      "cell_type": "code",
      "metadata": {
        "id": "hjxQ8S4OuIx2",
        "colab": {
          "base_uri": "https://localhost:8080/",
          "height": 282
        },
        "outputId": "c715de98-f233-4ba9-8a26-feffbdeb2024"
      },
      "source": [
        "fig, axs = plt.subplots(figsize=(12, 4))\n",
        "values.plot.area(ax=axs)\n",
        "axs.set_ylabel(\"Movimento\")\n",
        "#fig.savefig(\"movimento.png\")"
      ],
      "execution_count": 391,
      "outputs": [
        {
          "output_type": "execute_result",
          "data": {
            "text/plain": [
              "Text(0, 0.5, 'Movimento')"
            ]
          },
          "metadata": {
            "tags": []
          },
          "execution_count": 391
        },
        {
          "output_type": "display_data",
          "data": {
            "image/png": "[encoded data removed]",
            "text/plain": [
              "<Figure size 864x288 with 1 Axes>"
            ]
          },
          "metadata": {
            "tags": [],
            "needs_background": "light"
          }
        }
      ]
    }
  ]
}