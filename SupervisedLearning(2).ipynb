{
  "nbformat": 4,
  "nbformat_minor": 0,
  "metadata": {
    "colab": {
      "name": "SupervisedLearning.ipynb",
      "provenance": [],
      "collapsed_sections": []
    },
    "kernelspec": {
      "display_name": "Python 3",
      "name": "python3"
    },
    "language_info": {
      "name": "python"
    }
  },
  "cells": [
    {
      "cell_type": "code",
      "metadata": {
        "colab": {
          "base_uri": "https://localhost:8080/"
        },
        "id": "EvWdwFUHK8CT",
        "outputId": "63dbd5e3-28cc-4649-dc15-60d1a6d307fd"
      },
      "source": [
        "!pip install -U -q PyDrive\n",
        "\n",
        "\n",
        "import pandas as pd\n",
        "from datetime import datetime\n",
        "import csv\n",
        "import matplotlib.pyplot as plt\n",
        "import matplotlib.dates as mdates\n",
        "import seaborn as sns\n",
        "from scipy import stats\n",
        "\n",
        "\n",
        "import numpy as np\n",
        "\n",
        "from pydrive.auth import GoogleAuth\n",
        "from pydrive.drive import GoogleDrive\n",
        "from google.colab import auth\n",
        "from google.colab import drive\n",
        "from oauth2client.client import GoogleCredentials\n",
        "from os.path import exists as file_exists\n",
        "\n",
        "\n",
        "# Authenticate and create the PyDrive client.\n",
        "auth.authenticate_user()\n",
        "gauth = GoogleAuth()\n",
        "gauth.credentials = GoogleCredentials.get_application_default()\n",
        "googleDrive = GoogleDrive(gauth)\n",
        "\n",
        "\n",
        "drive.mount('/content/gdrive')\n",
        "\n",
        "#leitura do arquivo\n",
        "!ls \"/content/gdrive/MyDrive/Colab Notebooks/\"\n",
        "file = '/content/gdrive/MyDrive/Colab Notebooks/files/1.csv'\n",
        "\n",
        "file2 = '/content/gdrive/MyDrive/Colab Notebooks/files/2.csv'\n",
        "file3 = '/content/gdrive/MyDrive/Colab Notebooks/files/3.csv'"
      ],
      "execution_count": null,
      "outputs": [
        {
          "output_type": "stream",
          "text": [
            "Drive already mounted at /content/gdrive; to attempt to forcibly remount, call drive.mount(\"/content/gdrive\", force_remount=True).\n",
            " CdiasExercicio2.ipynb\t   Lista3-2.ipynb\n",
            " estatistica\t\t   lista3.ipynb\n",
            " Exercicio2-parte2.ipynb   medidas_estatisticas.ipynb\n",
            " Exercicios-2.ipynb\t   palavras.txt\n",
            " files\t\t\t   parrot.ipynb\n",
            " IA-LAB1\t\t  'Política e COVID.ipynb'\n",
            " ImagemCloud.ipynb\t  'Política e COVID_NOVO.ipynb'\n",
            " Lista1-IA.ipynb\t   -SupervisedLearning.ipynb\n",
            " lista1.ipynb\t\t   SupervisedLearning.ipynb\n",
            " lista2.ipynb\t\t   tempoxclasse.ipynb\n"
          ],
          "name": "stdout"
        }
      ]
    },
    {
      "cell_type": "markdown",
      "metadata": {
        "id": "wucPlmO7_DDJ"
      },
      "source": [
        "# DataSet com dados de acelerômetro\n",
        "\n"
      ]
    },
    {
      "cell_type": "code",
      "metadata": {
        "colab": {
          "base_uri": "https://localhost:8080/",
          "height": 423
        },
        "id": "I4LtjRASupVe",
        "outputId": "04dc1400-c88d-4f90-ea4e-39d25c4e68d9"
      },
      "source": [
        "url = file2\n",
        "df = pd.read_csv(url)\n",
        "\n",
        "df"
      ],
      "execution_count": null,
      "outputs": [
        {
          "output_type": "execute_result",
          "data": {
            "text/html": [
              "<div>\n",
              "<style scoped>\n",
              "    .dataframe tbody tr th:only-of-type {\n",
              "        vertical-align: middle;\n",
              "    }\n",
              "\n",
              "    .dataframe tbody tr th {\n",
              "        vertical-align: top;\n",
              "    }\n",
              "\n",
              "    .dataframe thead th {\n",
              "        text-align: right;\n",
              "    }\n",
              "</style>\n",
              "<table border=\"1\" class=\"dataframe\">\n",
              "  <thead>\n",
              "    <tr style=\"text-align: right;\">\n",
              "      <th></th>\n",
              "      <th>indice</th>\n",
              "      <th>x</th>\n",
              "      <th>y</th>\n",
              "      <th>z</th>\n",
              "      <th>movimento</th>\n",
              "    </tr>\n",
              "  </thead>\n",
              "  <tbody>\n",
              "    <tr>\n",
              "      <th>0</th>\n",
              "      <td>0.0</td>\n",
              "      <td>1502</td>\n",
              "      <td>2215</td>\n",
              "      <td>2153</td>\n",
              "      <td>1</td>\n",
              "    </tr>\n",
              "    <tr>\n",
              "      <th>1</th>\n",
              "      <td>1.0</td>\n",
              "      <td>1667</td>\n",
              "      <td>2072</td>\n",
              "      <td>2047</td>\n",
              "      <td>1</td>\n",
              "    </tr>\n",
              "    <tr>\n",
              "      <th>2</th>\n",
              "      <td>2.0</td>\n",
              "      <td>1611</td>\n",
              "      <td>1957</td>\n",
              "      <td>1906</td>\n",
              "      <td>1</td>\n",
              "    </tr>\n",
              "    <tr>\n",
              "      <th>3</th>\n",
              "      <td>3.0</td>\n",
              "      <td>1601</td>\n",
              "      <td>1939</td>\n",
              "      <td>1831</td>\n",
              "      <td>1</td>\n",
              "    </tr>\n",
              "    <tr>\n",
              "      <th>4</th>\n",
              "      <td>4.0</td>\n",
              "      <td>1643</td>\n",
              "      <td>1965</td>\n",
              "      <td>1879</td>\n",
              "      <td>1</td>\n",
              "    </tr>\n",
              "    <tr>\n",
              "      <th>...</th>\n",
              "      <td>...</td>\n",
              "      <td>...</td>\n",
              "      <td>...</td>\n",
              "      <td>...</td>\n",
              "      <td>...</td>\n",
              "    </tr>\n",
              "    <tr>\n",
              "      <th>249745</th>\n",
              "      <td>138000.0</td>\n",
              "      <td>2150</td>\n",
              "      <td>2316</td>\n",
              "      <td>1979</td>\n",
              "      <td>7</td>\n",
              "    </tr>\n",
              "    <tr>\n",
              "      <th>249746</th>\n",
              "      <td>138000.0</td>\n",
              "      <td>2142</td>\n",
              "      <td>2314</td>\n",
              "      <td>1985</td>\n",
              "      <td>7</td>\n",
              "    </tr>\n",
              "    <tr>\n",
              "      <th>249747</th>\n",
              "      <td>138000.0</td>\n",
              "      <td>2139</td>\n",
              "      <td>2301</td>\n",
              "      <td>1992</td>\n",
              "      <td>7</td>\n",
              "    </tr>\n",
              "    <tr>\n",
              "      <th>249748</th>\n",
              "      <td>138000.0</td>\n",
              "      <td>2136</td>\n",
              "      <td>2315</td>\n",
              "      <td>1990</td>\n",
              "      <td>7</td>\n",
              "    </tr>\n",
              "    <tr>\n",
              "      <th>249749</th>\n",
              "      <td>138000.0</td>\n",
              "      <td>2134</td>\n",
              "      <td>2320</td>\n",
              "      <td>1982</td>\n",
              "      <td>7</td>\n",
              "    </tr>\n",
              "  </tbody>\n",
              "</table>\n",
              "<p>249750 rows × 5 columns</p>\n",
              "</div>"
            ],
            "text/plain": [
              "          indice     x     y     z  movimento\n",
              "0            0.0  1502  2215  2153          1\n",
              "1            1.0  1667  2072  2047          1\n",
              "2            2.0  1611  1957  1906          1\n",
              "3            3.0  1601  1939  1831          1\n",
              "4            4.0  1643  1965  1879          1\n",
              "...          ...   ...   ...   ...        ...\n",
              "249745  138000.0  2150  2316  1979          7\n",
              "249746  138000.0  2142  2314  1985          7\n",
              "249747  138000.0  2139  2301  1992          7\n",
              "249748  138000.0  2136  2315  1990          7\n",
              "249749  138000.0  2134  2320  1982          7\n",
              "\n",
              "[249750 rows x 5 columns]"
            ]
          },
          "metadata": {
            "tags": []
          },
          "execution_count": 38
        }
      ]
    },
    {
      "cell_type": "code",
      "metadata": {
        "colab": {
          "base_uri": "https://localhost:8080/",
          "height": 300
        },
        "id": "ehdcSYvpvgOi",
        "outputId": "e66e1d42-6234-4d7c-cfec-45cbfc238236"
      },
      "source": [
        "valuesDf = df.drop(columns=['indice', 'movimento'], axis=1)\n",
        "valuesDf.describe()"
      ],
      "execution_count": null,
      "outputs": [
        {
          "output_type": "execute_result",
          "data": {
            "text/html": [
              "<div>\n",
              "<style scoped>\n",
              "    .dataframe tbody tr th:only-of-type {\n",
              "        vertical-align: middle;\n",
              "    }\n",
              "\n",
              "    .dataframe tbody tr th {\n",
              "        vertical-align: top;\n",
              "    }\n",
              "\n",
              "    .dataframe thead th {\n",
              "        text-align: right;\n",
              "    }\n",
              "</style>\n",
              "<table border=\"1\" class=\"dataframe\">\n",
              "  <thead>\n",
              "    <tr style=\"text-align: right;\">\n",
              "      <th></th>\n",
              "      <th>x</th>\n",
              "      <th>y</th>\n",
              "      <th>z</th>\n",
              "    </tr>\n",
              "  </thead>\n",
              "  <tbody>\n",
              "    <tr>\n",
              "      <th>count</th>\n",
              "      <td>249750.000000</td>\n",
              "      <td>249750.000000</td>\n",
              "      <td>249750.000000</td>\n",
              "    </tr>\n",
              "    <tr>\n",
              "      <th>mean</th>\n",
              "      <td>2008.108533</td>\n",
              "      <td>2350.154635</td>\n",
              "      <td>1975.270683</td>\n",
              "    </tr>\n",
              "    <tr>\n",
              "      <th>std</th>\n",
              "      <td>109.622696</td>\n",
              "      <td>65.453446</td>\n",
              "      <td>111.694788</td>\n",
              "    </tr>\n",
              "    <tr>\n",
              "      <th>min</th>\n",
              "      <td>1094.000000</td>\n",
              "      <td>2.000000</td>\n",
              "      <td>2.000000</td>\n",
              "    </tr>\n",
              "    <tr>\n",
              "      <th>25%</th>\n",
              "      <td>1911.000000</td>\n",
              "      <td>2330.000000</td>\n",
              "      <td>1952.000000</td>\n",
              "    </tr>\n",
              "    <tr>\n",
              "      <th>50%</th>\n",
              "      <td>1975.000000</td>\n",
              "      <td>2359.000000</td>\n",
              "      <td>1988.000000</td>\n",
              "    </tr>\n",
              "    <tr>\n",
              "      <th>75%</th>\n",
              "      <td>2124.000000</td>\n",
              "      <td>2382.000000</td>\n",
              "      <td>2033.000000</td>\n",
              "    </tr>\n",
              "    <tr>\n",
              "      <th>max</th>\n",
              "      <td>3625.000000</td>\n",
              "      <td>4094.000000</td>\n",
              "      <td>4094.000000</td>\n",
              "    </tr>\n",
              "  </tbody>\n",
              "</table>\n",
              "</div>"
            ],
            "text/plain": [
              "                   x              y              z\n",
              "count  249750.000000  249750.000000  249750.000000\n",
              "mean     2008.108533    2350.154635    1975.270683\n",
              "std       109.622696      65.453446     111.694788\n",
              "min      1094.000000       2.000000       2.000000\n",
              "25%      1911.000000    2330.000000    1952.000000\n",
              "50%      1975.000000    2359.000000    1988.000000\n",
              "75%      2124.000000    2382.000000    2033.000000\n",
              "max      3625.000000    4094.000000    4094.000000"
            ]
          },
          "metadata": {
            "tags": []
          },
          "execution_count": 39
        }
      ]
    },
    {
      "cell_type": "code",
      "metadata": {
        "id": "sF2aPgBkvjgh",
        "colab": {
          "base_uri": "https://localhost:8080/"
        },
        "outputId": "3fcb65e2-efee-4842-a15d-894ae7f4f6a2"
      },
      "source": [
        "df.info()"
      ],
      "execution_count": null,
      "outputs": [
        {
          "output_type": "stream",
          "text": [
            "<class 'pandas.core.frame.DataFrame'>\n",
            "RangeIndex: 249750 entries, 0 to 249749\n",
            "Data columns (total 5 columns):\n",
            " #   Column     Non-Null Count   Dtype  \n",
            "---  ------     --------------   -----  \n",
            " 0   indice     249750 non-null  float64\n",
            " 1   x          249750 non-null  int64  \n",
            " 2   y          249750 non-null  int64  \n",
            " 3   z          249750 non-null  int64  \n",
            " 4   movimento  249750 non-null  int64  \n",
            "dtypes: float64(1), int64(4)\n",
            "memory usage: 9.5 MB\n"
          ],
          "name": "stdout"
        }
      ]
    },
    {
      "cell_type": "markdown",
      "metadata": {
        "id": "DncvH2fyvuKF"
      },
      "source": [
        ""
      ]
    },
    {
      "cell_type": "code",
      "metadata": {
        "colab": {
          "base_uri": "https://localhost:8080/",
          "height": 283
        },
        "id": "FIqAgmZmvuSB",
        "outputId": "3d8911c5-d2e4-4ccb-fc7a-5f73f10538d8"
      },
      "source": [
        "# Característica do conjunto original\n",
        "ax = df['x'].value_counts(ascending=True).plot(kind='bar', color=['r','b']);\n",
        "#inserir legendas acima das barras\n",
        "for p in ax.patches:\n",
        "  ax.annotate(str(p.get_height()), (p.get_x() * 1.005, p.get_height() * 1.005),fontsize=14)"
      ],
      "execution_count": null,
      "outputs": [
        {
          "output_type": "display_data",
          "data": {
            "image/png": "[encoded data removed]",
            "text/plain": [
              "<Figure size 432x288 with 1 Axes>"
            ]
          },
          "metadata": {
            "tags": [],
            "needs_background": "light"
          }
        }
      ]
    },
    {
      "cell_type": "code",
      "metadata": {
        "colab": {
          "base_uri": "https://localhost:8080/",
          "height": 283
        },
        "id": "0afF_GR00Mzd",
        "outputId": "85317292-11c5-4a60-e7bf-07ae35c3f708"
      },
      "source": [
        "# Característica do conjunto original\n",
        "ay = df['y'].value_counts(ascending=True).plot(kind='bar', color=['r','b']);\n",
        "#inserir legendas acima das barras\n",
        "for p in ay.patches:\n",
        "  ay.annotate(str(p.get_height()), (p.get_x() * 1.005, p.get_height() * 1.005),fontsize=14)"
      ],
      "execution_count": null,
      "outputs": [
        {
          "output_type": "display_data",
          "data": {
            "image/png": "[encoded data removed]",
            "text/plain": [
              "<Figure size 432x288 with 1 Axes>"
            ]
          },
          "metadata": {
            "tags": [],
            "needs_background": "light"
          }
        }
      ]
    },
    {
      "cell_type": "code",
      "metadata": {
        "colab": {
          "base_uri": "https://localhost:8080/",
          "height": 283
        },
        "id": "wkVuIEF70daU",
        "outputId": "8c80d46d-268b-48a7-9180-a820ec9101f8"
      },
      "source": [
        "# Característica do conjunto original\n",
        "az = df['z'].value_counts(ascending=True).plot(kind='bar', color=['r','b']);\n",
        "#inserir legendas acima das barras\n",
        "for p in az.patches:\n",
        "  az.annotate(str(p.get_height()), (p.get_x() * 1.005, p.get_height() * 1.005),fontsize=14)"
      ],
      "execution_count": null,
      "outputs": [
        {
          "output_type": "display_data",
          "data": {
            "image/png": "[encoded data removed]",
            "text/plain": [
              "<Figure size 432x288 with 1 Axes>"
            ]
          },
          "metadata": {
            "tags": [],
            "needs_background": "light"
          }
        }
      ]
    },
    {
      "cell_type": "markdown",
      "metadata": {
        "id": "A6LvAEEWvjVS"
      },
      "source": [
        ""
      ]
    },
    {
      "cell_type": "code",
      "metadata": {
        "colab": {
          "base_uri": "https://localhost:8080/"
        },
        "id": "KdUJdSrccV5c",
        "outputId": "eeb31fb7-a179-4fcb-b4c7-14369447d67e"
      },
      "source": [
        "\n",
        "X = df[['x', 'y', 'z']]\n",
        "y = df['movimento']\n",
        "\n",
        "print(X.shape)\n",
        "print(y.shape)\n",
        "\n"
      ],
      "execution_count": null,
      "outputs": [
        {
          "output_type": "stream",
          "text": [
            "(249750, 3)\n",
            "(249750,)\n"
          ],
          "name": "stdout"
        }
      ]
    },
    {
      "cell_type": "markdown",
      "metadata": {
        "id": "2YV71Ma2_fax"
      },
      "source": [
        "# Sumarização dos dados"
      ]
    },
    {
      "cell_type": "code",
      "metadata": {
        "colab": {
          "base_uri": "https://localhost:8080/"
        },
        "id": "S1pqa8J7ZaDy",
        "outputId": "1dff5f9b-dae6-4815-a970-7912fa522943"
      },
      "source": [
        "print('Quantidade de Movimentos: ', df.movimento.unique())\n",
        "\n",
        "print(np.bincount(y))\n",
        "print(df.movimento.value_counts())\n",
        "#see seaborn chart\n",
        "\n",
        "print('\\n# Qtde. movimento 1 = '+str(len(df.loc[df['movimento'] == 1])))"
      ],
      "execution_count": null,
      "outputs": [
        {
          "output_type": "stream",
          "text": [
            "Quantidade de Movimentos:  [1 2 3 4 5 6 7 0]\n",
            "[  269 77827  4418 31376 34824  7101 10017 83918]\n",
            "7    83918\n",
            "1    77827\n",
            "4    34824\n",
            "3    31376\n",
            "6    10017\n",
            "5     7101\n",
            "2     4418\n",
            "0      269\n",
            "Name: movimento, dtype: int64\n",
            "\n",
            "# Qtde. movimento 1 = 77827\n"
          ],
          "name": "stdout"
        }
      ]
    },
    {
      "cell_type": "markdown",
      "metadata": {
        "id": "aaCmq_SHd1GI"
      },
      "source": [
        "## Divisão do conjunto de dados\n",
        "![image.png](data:image/png;base64,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)\n"
      ]
    },
    {
      "cell_type": "code",
      "metadata": {
        "colab": {
          "base_uri": "https://localhost:8080/"
        },
        "id": "0etULmj7ab2X",
        "outputId": "14964660-3af2-47b1-c297-2506641a267b"
      },
      "source": [
        "from sklearn.model_selection import train_test_split\n",
        "# Divisão do conjunto de dados\n",
        "X_train, X_test, y_train, y_test = train_test_split(X, y, test_size=0.3, random_state=0)\n",
        "\n",
        "#verificar dimensões dos subconjuntos\n",
        "X_train.shape, X_test.shape, y_train.shape, y_test.shape\n",
        "\n"
      ],
      "execution_count": null,
      "outputs": [
        {
          "output_type": "execute_result",
          "data": {
            "text/plain": [
              "((174825, 3), (74925, 3), (174825,), (74925,))"
            ]
          },
          "metadata": {
            "tags": []
          },
          "execution_count": 46
        }
      ]
    },
    {
      "cell_type": "code",
      "metadata": {
        "id": "hzwo3ejIkj5m"
      },
      "source": [
        "from sklearn.neighbors import KNeighborsClassifier"
      ],
      "execution_count": null,
      "outputs": []
    },
    {
      "cell_type": "code",
      "metadata": {
        "colab": {
          "base_uri": "https://localhost:8080/"
        },
        "id": "xNs3q8MEkUy3",
        "outputId": "c038e1c6-915c-4abc-a011-81afe7846719"
      },
      "source": [
        "knn = KNeighborsClassifier(n_neighbors = 7)\n",
        "knn.fit(X_train, y_train)"
      ],
      "execution_count": null,
      "outputs": [
        {
          "output_type": "execute_result",
          "data": {
            "text/plain": [
              "KNeighborsClassifier(algorithm='auto', leaf_size=30, metric='minkowski',\n",
              "                     metric_params=None, n_jobs=None, n_neighbors=7, p=2,\n",
              "                     weights='uniform')"
            ]
          },
          "metadata": {
            "tags": []
          },
          "execution_count": 48
        }
      ]
    },
    {
      "cell_type": "code",
      "metadata": {
        "colab": {
          "base_uri": "https://localhost:8080/"
        },
        "id": "mxi_Vm31k3a_",
        "outputId": "4cf8c93d-153e-4eba-895d-485ac5c8e1c9"
      },
      "source": [
        "print(\"KNN accuracy on test set: \", knn.score(X_test, y_test))\n"
      ],
      "execution_count": null,
      "outputs": [
        {
          "output_type": "stream",
          "text": [
            "KNN accuracy on test set:  0.7903636970303637\n"
          ],
          "name": "stdout"
        }
      ]
    },
    {
      "cell_type": "markdown",
      "metadata": {
        "id": "aaNy5_LllBub"
      },
      "source": [
        "# Validação Cruzada, Matriz de Confusão e Gráficos\n",
        "**VALIDAÇÃO CRUZADA**\n"
      ]
    },
    {
      "cell_type": "code",
      "metadata": {
        "colab": {
          "base_uri": "https://localhost:8080/"
        },
        "id": "IHkMqzFjlV1L",
        "outputId": "8b766f3d-0719-4e53-ae82-b57094174c7e"
      },
      "source": [
        "from sklearn.model_selection import cross_val_score\n",
        "\n",
        "cv_scores = cross_val_score(knn, X, y, cv=10)\n",
        "print('Cross-validation score with 10 folds:', cv_scores)\n",
        "print('Mean cross-validation score with 10 folds: {:.3f}'.format(np.mean(cv_scores)))\n"
      ],
      "execution_count": null,
      "outputs": [
        {
          "output_type": "stream",
          "text": [
            "Cross-validation score with 10 folds: [0.66484487 0.76140026 0.77502172 0.69912273 0.65107349 0.70006727\n",
            " 0.61379562]\n",
            "Mean cross-validation score with 10 folds: 0.695\n"
          ],
          "name": "stdout"
        }
      ]
    },
    {
      "cell_type": "markdown",
      "metadata": {
        "id": "eumN13iyliph"
      },
      "source": [
        "**MATRIZ DE CONFUSÃO**"
      ]
    },
    {
      "cell_type": "code",
      "metadata": {
        "colab": {
          "base_uri": "https://localhost:8080/",
          "height": 331
        },
        "id": "CRqyXUmclkiO",
        "outputId": "e5ce513e-2438-4c50-afb8-9beeb2d7c2f8"
      },
      "source": [
        "#from sklearn.metrics import confusion_matrix\n",
        "#confusion = confusion_matrix(y, knn.predict(X))\n",
        "#confusion\n",
        "pd.crosstab(y, knn.predict(X), colnames=['Predita'])"
      ],
      "execution_count": null,
      "outputs": [
        {
          "output_type": "execute_result",
          "data": {
            "text/html": [
              "<div>\n",
              "<style scoped>\n",
              "    .dataframe tbody tr th:only-of-type {\n",
              "        vertical-align: middle;\n",
              "    }\n",
              "\n",
              "    .dataframe tbody tr th {\n",
              "        vertical-align: top;\n",
              "    }\n",
              "\n",
              "    .dataframe thead th {\n",
              "        text-align: right;\n",
              "    }\n",
              "</style>\n",
              "<table border=\"1\" class=\"dataframe\">\n",
              "  <thead>\n",
              "    <tr style=\"text-align: right;\">\n",
              "      <th>Predita</th>\n",
              "      <th>0</th>\n",
              "      <th>1</th>\n",
              "      <th>2</th>\n",
              "      <th>3</th>\n",
              "      <th>4</th>\n",
              "      <th>5</th>\n",
              "      <th>6</th>\n",
              "      <th>7</th>\n",
              "    </tr>\n",
              "    <tr>\n",
              "      <th>movimento</th>\n",
              "      <th></th>\n",
              "      <th></th>\n",
              "      <th></th>\n",
              "      <th></th>\n",
              "      <th></th>\n",
              "      <th></th>\n",
              "      <th></th>\n",
              "      <th></th>\n",
              "    </tr>\n",
              "  </thead>\n",
              "  <tbody>\n",
              "    <tr>\n",
              "      <th>0</th>\n",
              "      <td>9</td>\n",
              "      <td>0</td>\n",
              "      <td>0</td>\n",
              "      <td>0</td>\n",
              "      <td>0</td>\n",
              "      <td>0</td>\n",
              "      <td>63</td>\n",
              "      <td>197</td>\n",
              "    </tr>\n",
              "    <tr>\n",
              "      <th>1</th>\n",
              "      <td>0</td>\n",
              "      <td>76358</td>\n",
              "      <td>582</td>\n",
              "      <td>85</td>\n",
              "      <td>464</td>\n",
              "      <td>93</td>\n",
              "      <td>20</td>\n",
              "      <td>225</td>\n",
              "    </tr>\n",
              "    <tr>\n",
              "      <th>2</th>\n",
              "      <td>0</td>\n",
              "      <td>1587</td>\n",
              "      <td>1757</td>\n",
              "      <td>148</td>\n",
              "      <td>520</td>\n",
              "      <td>44</td>\n",
              "      <td>19</td>\n",
              "      <td>343</td>\n",
              "    </tr>\n",
              "    <tr>\n",
              "      <th>3</th>\n",
              "      <td>1</td>\n",
              "      <td>56</td>\n",
              "      <td>74</td>\n",
              "      <td>20016</td>\n",
              "      <td>3674</td>\n",
              "      <td>649</td>\n",
              "      <td>402</td>\n",
              "      <td>6504</td>\n",
              "    </tr>\n",
              "    <tr>\n",
              "      <th>4</th>\n",
              "      <td>0</td>\n",
              "      <td>546</td>\n",
              "      <td>134</td>\n",
              "      <td>2656</td>\n",
              "      <td>27089</td>\n",
              "      <td>446</td>\n",
              "      <td>314</td>\n",
              "      <td>3639</td>\n",
              "    </tr>\n",
              "    <tr>\n",
              "      <th>5</th>\n",
              "      <td>0</td>\n",
              "      <td>180</td>\n",
              "      <td>25</td>\n",
              "      <td>1936</td>\n",
              "      <td>1747</td>\n",
              "      <td>2261</td>\n",
              "      <td>62</td>\n",
              "      <td>890</td>\n",
              "    </tr>\n",
              "    <tr>\n",
              "      <th>6</th>\n",
              "      <td>4</td>\n",
              "      <td>94</td>\n",
              "      <td>19</td>\n",
              "      <td>662</td>\n",
              "      <td>1798</td>\n",
              "      <td>179</td>\n",
              "      <td>3829</td>\n",
              "      <td>3432</td>\n",
              "    </tr>\n",
              "    <tr>\n",
              "      <th>7</th>\n",
              "      <td>10</td>\n",
              "      <td>249</td>\n",
              "      <td>107</td>\n",
              "      <td>4458</td>\n",
              "      <td>3880</td>\n",
              "      <td>348</td>\n",
              "      <td>1775</td>\n",
              "      <td>73091</td>\n",
              "    </tr>\n",
              "  </tbody>\n",
              "</table>\n",
              "</div>"
            ],
            "text/plain": [
              "Predita     0      1     2      3      4     5     6      7\n",
              "movimento                                                  \n",
              "0           9      0     0      0      0     0    63    197\n",
              "1           0  76358   582     85    464    93    20    225\n",
              "2           0   1587  1757    148    520    44    19    343\n",
              "3           1     56    74  20016   3674   649   402   6504\n",
              "4           0    546   134   2656  27089   446   314   3639\n",
              "5           0    180    25   1936   1747  2261    62    890\n",
              "6           4     94    19    662   1798   179  3829   3432\n",
              "7          10    249   107   4458   3880   348  1775  73091"
            ]
          },
          "metadata": {
            "tags": []
          },
          "execution_count": 74
        }
      ]
    },
    {
      "cell_type": "code",
      "metadata": {
        "colab": {
          "base_uri": "https://localhost:8080/",
          "height": 296
        },
        "id": "8qSakSpXlzD2",
        "outputId": "d7163707-6386-4bd8-911c-b680e0b038be"
      },
      "source": [
        "from sklearn.metrics import plot_confusion_matrix\n",
        "plot_confusion_matrix(knn, X, y, values_format = 'd')"
      ],
      "execution_count": null,
      "outputs": [
        {
          "output_type": "execute_result",
          "data": {
            "text/plain": [
              "<sklearn.metrics._plot.confusion_matrix.ConfusionMatrixDisplay at 0x7f6ba86ebc50>"
            ]
          },
          "metadata": {
            "tags": []
          },
          "execution_count": 73
        },
        {
          "output_type": "display_data",
          "data": {
            "image/png": "[encoded data removed]",
            "text/plain": [
              "<Figure size 432x288 with 2 Axes>"
            ]
          },
          "metadata": {
            "tags": [],
            "needs_background": "light"
          }
        }
      ]
    },
    {
      "cell_type": "code",
      "metadata": {
        "colab": {
          "base_uri": "https://localhost:8080/"
        },
        "id": "nV8G_x7il__J",
        "outputId": "98cc7da2-a90f-47ac-cc36-300df37e8d1a"
      },
      "source": [
        "from sklearn.metrics import classification_report, confusion_matrix, accuracy_score\n",
        "y_pred = knn.predict(X_test)\n",
        "print(\"Relatório de classificação: \\n\", classification_report(y_test, y_pred))  "
      ],
      "execution_count": null,
      "outputs": [
        {
          "output_type": "stream",
          "text": [
            "Relatório de classificação: \n",
            "               precision    recall  f1-score   support\n",
            "\n",
            "           0       0.00      0.00      0.00        83\n",
            "           1       0.96      0.98      0.97     23245\n",
            "           2       0.57      0.33      0.42      1332\n",
            "           3       0.61      0.59      0.60      9500\n",
            "           4       0.65      0.74      0.69     10448\n",
            "           5       0.46      0.26      0.33      2180\n",
            "           6       0.50      0.33      0.39      3051\n",
            "           7       0.80      0.85      0.83     25086\n",
            "\n",
            "    accuracy                           0.79     74925\n",
            "   macro avg       0.57      0.51      0.53     74925\n",
            "weighted avg       0.78      0.79      0.78     74925\n",
            "\n"
          ],
          "name": "stdout"
        }
      ]
    },
    {
      "cell_type": "markdown",
      "metadata": {
        "id": "q8t78NCP3EqD"
      },
      "source": [
        "# Normalizar o Dataframe de Pandas com o mean Normalização\n",
        "\n",
        "A normalização mean é uma das maneiras mais fáceis de normalizar os Dataframes de intervalos variados. A normalização é feita subtraindo a média e dividindo pelo desvio padrão para todos os elementos do dataframe."
      ]
    },
    {
      "cell_type": "code",
      "metadata": {
        "id": "5ozNw6tl4Q5B"
      },
      "source": [
        "def mean_norm(df_input):\n",
        "    return df_input.apply(lambda x: (x-x.mean())/ x.std(), axis=0)"
      ],
      "execution_count": null,
      "outputs": []
    },
    {
      "cell_type": "code",
      "metadata": {
        "colab": {
          "base_uri": "https://localhost:8080/"
        },
        "id": "SK6FAPKA4_ic",
        "outputId": "578c6baa-4680-4acb-a36c-760ec59bb38b"
      },
      "source": [
        "print(mean_norm(df))"
      ],
      "execution_count": null,
      "outputs": [
        {
          "output_type": "stream",
          "text": [
            "          indice         x         y         z  movimento\n",
            "0      -1.682853 -4.616823 -2.064897  1.591205  -1.208448\n",
            "1      -1.682828 -3.111660 -4.249656  0.642190  -1.208448\n",
            "2      -1.682803 -3.622503 -6.006630 -0.620178  -1.208448\n",
            "3      -1.682778 -3.713725 -6.281635 -1.291651  -1.208448\n",
            "4      -1.682753 -3.330593 -5.884406 -0.861908  -1.208448\n",
            "...          ...       ...       ...       ...        ...\n",
            "249745  1.757435  1.294362 -0.521816  0.033388   1.195230\n",
            "249746  1.757435  1.221385 -0.552372  0.087106   1.195230\n",
            "249747  1.757435  1.194018 -0.750986  0.149777   1.195230\n",
            "249748  1.757435  1.166651 -0.537094  0.131871   1.195230\n",
            "249749  1.757435  1.148407 -0.460704  0.060247   1.195230\n",
            "\n",
            "[249750 rows x 5 columns]\n"
          ],
          "name": "stdout"
        }
      ]
    },
    {
      "cell_type": "markdown",
      "metadata": {
        "id": "ZxDwn0rk4j7k"
      },
      "source": [
        "# Normalizar Pandas Dataframe com a Normalização min-max\n",
        "\n",
        "Este é um dos métodos amplamente utilizados para a normalização. O resultado da normalização subtrai o valor mínimo de um quadro de dados e divide-o pela diferença entre o valor mais alto e mais baixo da coluna correspondente."
      ]
    },
    {
      "cell_type": "code",
      "metadata": {
        "id": "4Ec2MMpO4TCj"
      },
      "source": [
        "def minmax_norm(df_input):\n",
        "    return (df - df.min()) / ( df.max() - df.min())"
      ],
      "execution_count": null,
      "outputs": []
    },
    {
      "cell_type": "code",
      "metadata": {
        "colab": {
          "base_uri": "https://localhost:8080/"
        },
        "id": "ujMRQ0RB5OFu",
        "outputId": "b7263b14-350a-4897-cef4-3fe5dc3b4354"
      },
      "source": [
        "print(minmax_norm(df))"
      ],
      "execution_count": null,
      "outputs": [
        {
          "output_type": "stream",
          "text": [
            "          indice         x         y         z  movimento\n",
            "0       0.000000  0.161201  0.540811  0.525660   0.142857\n",
            "1       0.000007  0.226393  0.505865  0.499756   0.142857\n",
            "2       0.000014  0.204267  0.477761  0.465298   0.142857\n",
            "3       0.000022  0.200316  0.473363  0.446970   0.142857\n",
            "4       0.000029  0.216910  0.479717  0.458700   0.142857\n",
            "...          ...       ...       ...       ...        ...\n",
            "249745  1.000000  0.417226  0.565494  0.483138   1.000000\n",
            "249746  1.000000  0.414066  0.565005  0.484604   1.000000\n",
            "249747  1.000000  0.412880  0.561828  0.486315   1.000000\n",
            "249748  1.000000  0.411695  0.565249  0.485826   1.000000\n",
            "249749  1.000000  0.410905  0.566471  0.483871   1.000000\n",
            "\n",
            "[249750 rows x 5 columns]\n"
          ],
          "name": "stdout"
        }
      ]
    },
    {
      "cell_type": "markdown",
      "metadata": {
        "id": "zNYHkX0X4moP"
      },
      "source": [
        "# Normalize Dataframe Pandas com a normalização quantil\n",
        "\n",
        "A normalização quantitativa é utilizada no caso de análises de dados de alta dimensão. Observa e assume que a distribuição estatística de cada coluna é uma e a mesma. A normalização de quantidades consiste nas seguintes etapas:\n",
        "\n",
        "    Valores de ordem dentro de cada coluna (Ranking)\n",
        "    Média através de cada linha e substituir o valor de cada elemento da linha pela média\n",
        "    Reordenar valores para a ordem original como inicialmente."
      ]
    },
    {
      "cell_type": "code",
      "metadata": {
        "id": "-aHHex5P4Tn4"
      },
      "source": [
        "def quantile_norm(df_input):\n",
        "    sorted_df = pd.DataFrame(np.sort(df_input.values,axis=0), index=df_input.index, columns=df_input.columns)\n",
        "    mean_df = sorted_df.mean(axis=1)\n",
        "    mean_df.index = np.arange(1, len(mean_df) + 1)\n",
        "    quantile_df =df_input.rank(method=\"min\").stack().astype(int).map(mean_df).unstack()\n",
        "    return(quantile_df)"
      ],
      "execution_count": null,
      "outputs": []
    },
    {
      "cell_type": "code",
      "metadata": {
        "colab": {
          "base_uri": "https://localhost:8080/"
        },
        "id": "cAFEONbQ5UjR",
        "outputId": "b658ddaf-675d-4b31-a49b-e77895f42dd9"
      },
      "source": [
        "print(quantile_norm(df))"
      ],
      "execution_count": null,
      "outputs": [
        {
          "output_type": "stream",
          "text": [
            "         indice        x       y        z  movimento\n",
            "0         219.6    816.0  1661.0  28379.2     1108.8\n",
            "1         224.2   1072.8  1359.2  22742.6     1108.8\n",
            "2         285.4   1055.4  1043.0   5854.6     1108.8\n",
            "3         595.4   1047.6  1034.8   4591.2     1108.8\n",
            "4         711.0   1066.4  1045.6   5474.2     1108.8\n",
            "...         ...      ...     ...      ...        ...\n",
            "249745  29886.4  25001.0  6523.0  11802.8    19624.8\n",
            "249746  29886.4  23327.2  6420.4  14497.8    19624.8\n",
            "249747  29886.4  22958.2  5866.0  16292.6    19624.8\n",
            "249748  29886.4  22742.4  6461.2  15802.4    19624.8\n",
            "249749  29886.4  22611.6  6739.8  13234.2    19624.8\n",
            "\n",
            "[249750 rows x 5 columns]\n"
          ],
          "name": "stdout"
        }
      ]
    },
    {
      "cell_type": "markdown",
      "metadata": {
        "id": "YrDZZHaC_4AU"
      },
      "source": [
        "## Métrica Z-Score\n",
        "> * A pontuação Z redimensiona e centra (normaliza) os dados e procura pontos de dados que estão muito longe de zero (centro);\n",
        "* Os pontos de dados distantes de zero serão tratados como outliers. Na maioria dos casos, um limite de 3 ou -3 é usado, ou seja, se o valor de pontuação Z for maior ou menor que 3 ou -3, respectivamente, esse ponto de dados será identificado como outliers.\n"
      ]
    },
    {
      "cell_type": "code",
      "metadata": {
        "colab": {
          "base_uri": "https://localhost:8080/"
        },
        "id": "60fmVmnH_6Lk",
        "outputId": "fd3df991-e569-454c-d19f-20c8f4ae1e21"
      },
      "source": [
        "from scipy import stats\n",
        "\n",
        "z=np.abs(stats.zscore(df['x']))\n",
        "print(z)\n"
      ],
      "execution_count": null,
      "outputs": [
        {
          "output_type": "stream",
          "text": [
            "[4.61683178 3.111666   3.62251015 ... 1.19402035 1.1666537  1.14840927]\n"
          ],
          "name": "stdout"
        }
      ]
    },
    {
      "cell_type": "markdown",
      "metadata": {
        "id": "f6n722ZTA9ym"
      },
      "source": [
        "É difícil dizer qual ponto de dados é um outlier. Vamos tentar definir um limite (threshold) para identificar um outlier;\n",
        "Neste caso usaremos o valor de limite (threshold) = 2,5\n",
        "\n"
      ]
    },
    {
      "cell_type": "code",
      "metadata": {
        "colab": {
          "base_uri": "https://localhost:8080/"
        },
        "id": "y9BTDxlwA-Tl",
        "outputId": "72438907-7a1e-4a6c-ec61-deb90d9104b8"
      },
      "source": [
        "threshold = 3\n",
        "print(np.where(z > threshold))"
      ],
      "execution_count": null,
      "outputs": [
        {
          "output_type": "stream",
          "text": [
            "(array([     0,      1,      2,      3,      4,      5,      6,      7,\n",
            "            8,      9,     10,     11,     12,     13,     14,     15,\n",
            "           16,     17,     18,     19,     20,     21,     22,     23,\n",
            "           24,     25,     26,     27,     28,     29,     30,     31,\n",
            "           32,     33,     34,     35,     37,     38,     39,     40,\n",
            "           41,     42,     43,     44,     45,     46,     47,     48,\n",
            "           49,     50,     51,     52,     53,     54,     55,     56,\n",
            "           57,     58,     59,     60,     61,     62,     63,     64,\n",
            "           65,     66,     67,     68,     69,     70,     71,     72,\n",
            "           73,     74,     75,     76,     77,     78,     79,     80,\n",
            "           81,     82,     83,     84,     85,     86,     87,     92,\n",
            "           93,     99,    100,    101,    102,    104,    105,    106,\n",
            "          107,    108,    109,    110,    111,    112,    113,    114,\n",
            "          179,  53493,  63143,  63144, 113990, 113991, 113992, 113993,\n",
            "       113994, 113995, 113996, 113997, 114001, 114002, 114003, 114004,\n",
            "       114005, 114006, 114007, 114008, 114010, 114011, 114013, 114014,\n",
            "       114015, 114016, 114017, 114018, 114019, 114021, 114022, 114025,\n",
            "       114026, 114027, 114028, 114029, 114031, 114033, 114034, 114055,\n",
            "       114058, 114060, 114061, 114066, 114067, 114068, 159236, 161309,\n",
            "       173246, 175269, 175285, 175520, 175575, 177299, 177522, 177829,\n",
            "       189865, 191752, 191808, 191809, 194682, 194795, 194852, 204998,\n",
            "       205272, 206681, 206682, 240073, 240074, 240141, 240215, 243232]),)\n"
          ],
          "name": "stdout"
        }
      ]
    },
    {
      "cell_type": "markdown",
      "metadata": {
        "id": "8fbyKFBSBxCk"
      },
      "source": [
        "A primeira matriz contém a lista de números de linha e a segunda matriz de respectivos números de coluna, o que significa que z [10][0] tem um Z-score superior a 3."
      ]
    },
    {
      "cell_type": "markdown",
      "metadata": {
        "id": "EXBuHcWIB61r"
      },
      "source": [
        "Interquartile Range(IQR)\n",
        "\n",
        "A medida de variabilidade IQR, com base na divisão de um conjunto de dados em quartis chamados de primeiro, segundo e terceiro quartis; e eles são denotados por Q1, Q2 e Q3, respectivamente.\n",
        "\n",
        "    Q1 é o valor médio na primeira metade.\n",
        "    Q2 é o valor médio do conjunto.\n",
        "    Q3 é o valor médio na segunda metade.\n"
      ]
    },
    {
      "cell_type": "code",
      "metadata": {
        "colab": {
          "base_uri": "https://localhost:8080/"
        },
        "id": "g0ZZZzLaB_vO",
        "outputId": "79b0c071-11e7-4d5e-c76e-d3ce7949b924"
      },
      "source": [
        "Q1=df.quantile(0.25)\n",
        "Q3=df.quantile(0.75)\n",
        "IQR=Q3-Q1\n",
        "lowqe_bound=Q1 - 1.5 * IQR\n",
        "upper_bound=Q3 + 1.5 * IQR\n",
        "print(lowqe_bound,\"\\n\\n\",upper_bound)"
      ],
      "execution_count": null,
      "outputs": [
        {
          "output_type": "stream",
          "text": [
            "indice      -76199.375\n",
            "x             1591.500\n",
            "y             2252.000\n",
            "z             1830.500\n",
            "movimento       -8.000\n",
            "dtype: float64 \n",
            "\n",
            " indice       210247.625\n",
            "x              2443.500\n",
            "y              2460.000\n",
            "z              2154.500\n",
            "movimento        16.000\n",
            "dtype: float64\n"
          ],
          "name": "stdout"
        }
      ]
    },
    {
      "cell_type": "markdown",
      "metadata": {
        "id": "jHBWWgfrCTPS"
      },
      "source": [
        "## Removendo Outliers\n",
        "> * **Z-Score**\n"
      ]
    },
    {
      "cell_type": "code",
      "metadata": {
        "colab": {
          "base_uri": "https://localhost:8080/",
          "height": 296
        },
        "id": "6k_Omwc0CU28",
        "outputId": "ba38a8de-c3da-4c44-c0f2-4a024ba18faf"
      },
      "source": [
        "z_price=df[(z < threshold)]\n",
        "# Exibindo as dimensões dos DataFrames com e sem outlier\n",
        "df.shape,z_price['x'].shape\n",
        "\n",
        "sns.boxplot(x=z_price['x'])"
      ],
      "execution_count": null,
      "outputs": [
        {
          "output_type": "execute_result",
          "data": {
            "text/plain": [
              "<matplotlib.axes._subplots.AxesSubplot at 0x7f6ba8fb5610>"
            ]
          },
          "metadata": {
            "tags": []
          },
          "execution_count": 63
        },
        {
          "output_type": "display_data",
          "data": {
            "image/png": "[encoded data removed]",
            "text/plain": [
              "<Figure size 432x288 with 1 Axes>"
            ]
          },
          "metadata": {
            "tags": [],
            "needs_background": "light"
          }
        }
      ]
    },
    {
      "cell_type": "markdown",
      "metadata": {
        "id": "U_OA7ONJmyvj"
      },
      "source": [
        "**GRÁFICOS**"
      ]
    },
    {
      "cell_type": "code",
      "metadata": {
        "colab": {
          "base_uri": "https://localhost:8080/",
          "height": 279
        },
        "id": "D8I1K1pTm0BK",
        "outputId": "4a4598c1-71d5-45c6-fbbe-337865f787df"
      },
      "source": [
        "#number of examples in each class \n",
        "%matplotlib inline\n",
        "\n",
        "\n",
        "df.movimento.value_counts().plot(kind='bar')"
      ],
      "execution_count": null,
      "outputs": [
        {
          "output_type": "execute_result",
          "data": {
            "text/plain": [
              "<matplotlib.axes._subplots.AxesSubplot at 0x7f6ba8fe8a10>"
            ]
          },
          "metadata": {
            "tags": []
          },
          "execution_count": 64
        },
        {
          "output_type": "display_data",
          "data": {
            "image/png": "[encoded data removed]",
            "text/plain": [
              "<Figure size 432x288 with 1 Axes>"
            ]
          },
          "metadata": {
            "tags": [],
            "needs_background": "light"
          }
        }
      ]
    },
    {
      "cell_type": "code",
      "metadata": {
        "id": "duHXWfBzncab",
        "colab": {
          "base_uri": "https://localhost:8080/",
          "height": 279
        },
        "outputId": "7bd24db2-d709-41aa-9d4a-b2e9f5c76957"
      },
      "source": [
        "import seaborn as sns\n",
        "%matplotlib inline\n",
        "sns.countplot(x=df['movimento'], palette=\"Set3\")\n",
        "plt.show()"
      ],
      "execution_count": null,
      "outputs": [
        {
          "output_type": "display_data",
          "data": {
            "image/png": "[encoded data removed]",
            "text/plain": [
              "<Figure size 432x288 with 1 Axes>"
            ]
          },
          "metadata": {
            "tags": [],
            "needs_background": "light"
          }
        }
      ]
    },
    {
      "cell_type": "code",
      "metadata": {
        "colab": {
          "base_uri": "https://localhost:8080/",
          "height": 553
        },
        "id": "pLBk2CoSnlyP",
        "outputId": "e97b7766-eaf3-4c78-bf9f-bfaac145c3db"
      },
      "source": [
        "values = df.drop(columns=['indice', 'movimento'], axis=1)\n",
        "values.plot(kind='box', subplots=False, layout=(2,2), sharex=False, sharey=False, figsize=(9,9), title='Box Plot for each input variable')\n",
        "plt.savefig('coordenadas')\n",
        "plt.show()"
      ],
      "execution_count": null,
      "outputs": [
        {
          "output_type": "display_data",
          "data": {
            "image/png": "[encoded data removed]",
            "text/plain": [
              "<Figure size 648x648 with 1 Axes>"
            ]
          },
          "metadata": {
            "tags": [],
            "needs_background": "light"
          }
        }
      ]
    },
    {
      "cell_type": "code",
      "metadata": {
        "colab": {
          "base_uri": "https://localhost:8080/",
          "height": 839
        },
        "id": "AESMnIvWobol",
        "outputId": "770a96a3-70de-4922-9442-ecedc7f874fa"
      },
      "source": [
        "%matplotlib inline\n",
        "import matplotlib.pyplot as plt\n",
        "values = df.drop(columns=['indice', 'movimento'], axis=1)\n",
        "values.hist(column=['x', 'y', 'z'], bins=10, figsize=(20,15))\n",
        "plt.show()"
      ],
      "execution_count": null,
      "outputs": [
        {
          "output_type": "display_data",
          "data": {
            "image/png": "[encoded data removed]",
            "text/plain": [
              "<Figure size 1440x1080 with 4 Axes>"
            ]
          },
          "metadata": {
            "tags": [],
            "needs_background": "light"
          }
        }
      ]
    },
    {
      "cell_type": "code",
      "metadata": {
        "id": "LGkSxYW1pSoA",
        "colab": {
          "base_uri": "https://localhost:8080/",
          "height": 282
        },
        "outputId": "f85276da-1f62-4e9f-99af-f8aab441e8a3"
      },
      "source": [
        "%matplotlib inline\n",
        "values = df.drop(columns=['indice', 'movimento'], axis=1)\n",
        "values.plot()\n",
        "\n"
      ],
      "execution_count": null,
      "outputs": [
        {
          "output_type": "execute_result",
          "data": {
            "text/plain": [
              "<matplotlib.axes._subplots.AxesSubplot at 0x7f6ba870ec90>"
            ]
          },
          "metadata": {
            "tags": []
          },
          "execution_count": 68
        },
        {
          "output_type": "display_data",
          "data": {
            "image/png": "[encoded data removed]",
            "text/plain": [
              "<Figure size 432x288 with 1 Axes>"
            ]
          },
          "metadata": {
            "tags": [],
            "needs_background": "light"
          }
        }
      ]
    },
    {
      "cell_type": "code",
      "metadata": {
        "id": "yWY21UZRrvpC",
        "colab": {
          "base_uri": "https://localhost:8080/",
          "height": 300
        },
        "outputId": "3d2ebc1d-25df-473b-adfc-9f6dcf8ab962"
      },
      "source": [
        "df.boxplot(column=['x','y','z'])\n",
        "\n",
        "x=np.abs(stats.zscore(df['x']))\n",
        "print(x)\n",
        "\n",
        "threshold = 2000\n",
        "print(np.where(x < threshold))\n",
        "\n",
        "df.x = x"
      ],
      "execution_count": null,
      "outputs": [
        {
          "output_type": "stream",
          "text": [
            "[4.61683178 3.111666   3.62251015 ... 1.19402035 1.1666537  1.14840927]\n",
            "(array([     0,      1,      2, ..., 249747, 249748, 249749]),)\n"
          ],
          "name": "stdout"
        },
        {
          "output_type": "display_data",
          "data": {
            "image/png": "[encoded data removed]",
            "text/plain": [
              "<Figure size 432x288 with 1 Axes>"
            ]
          },
          "metadata": {
            "tags": [],
            "needs_background": "light"
          }
        }
      ]
    },
    {
      "cell_type": "code",
      "metadata": {
        "id": "mJD9vHPSspme",
        "colab": {
          "base_uri": "https://localhost:8080/",
          "height": 261
        },
        "outputId": "dc9bc032-685b-4b33-de4e-f78b6da33dc5"
      },
      "source": [
        "values = df.drop(columns=['indice', 'movimento'], axis=1)\n",
        "axs = values.plot.area(figsize=(12, 4), subplots=True)"
      ],
      "execution_count": null,
      "outputs": [
        {
          "output_type": "display_data",
          "data": {
            "image/png": "[encoded data removed]",
            "text/plain": [
              "<Figure size 864x288 with 3 Axes>"
            ]
          },
          "metadata": {
            "tags": [],
            "needs_background": "light"
          }
        }
      ]
    },
    {
      "cell_type": "code",
      "metadata": {
        "id": "hjxQ8S4OuIx2",
        "colab": {
          "base_uri": "https://localhost:8080/",
          "height": 282
        },
        "outputId": "efd67d69-3a76-48c6-8d80-3e79cbd6d2d4"
      },
      "source": [
        "fig, axs = plt.subplots(figsize=(12, 4))\n",
        "values.plot.area(ax=axs)\n",
        "axs.set_ylabel(\"Movimento\")\n",
        "#fig.savefig(\"movimento.png\")"
      ],
      "execution_count": null,
      "outputs": [
        {
          "output_type": "execute_result",
          "data": {
            "text/plain": [
              "Text(0, 0.5, 'Movimento')"
            ]
          },
          "metadata": {
            "tags": []
          },
          "execution_count": 71
        },
        {
          "output_type": "display_data",
          "data": {
            "image/png": "[encoded data removed]",
            "text/plain": [
              "<Figure size 864x288 with 1 Axes>"
            ]
          },
          "metadata": {
            "tags": [],
            "needs_background": "light"
          }
        }
      ]
    }
  ]
}